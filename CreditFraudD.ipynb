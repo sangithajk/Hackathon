{
  "nbformat": 4,
  "nbformat_minor": 0,
  "metadata": {
    "colab": {
      "name": "CreditFraudD",
      "version": "0.3.2",
      "provenance": [],
      "collapsed_sections": [],
      "include_colab_link": true
    },
    "kernelspec": {
      "name": "python3",
      "display_name": "Python 3"
    }
  },
  "cells": [
    {
      "cell_type": "markdown",
      "metadata": {
        "id": "view-in-github",
        "colab_type": "text"
      },
      "source": [
        "<a href=\"https://colab.research.google.com/github/sangithajk/Hackathon/blob/master/CreditFraudD.ipynb\" target=\"_parent\"><img src=\"https://colab.research.google.com/assets/colab-badge.svg\" alt=\"Open In Colab\"/></a>"
      ]
    },
    {
      "cell_type": "code",
      "metadata": {
        "id": "9LM2xIrnRjGc",
        "colab_type": "code",
        "outputId": "df0108f2-4f5c-405d-b2a7-a54a83f4b350",
        "colab": {
          "base_uri": "https://localhost:8080/",
          "height": 34
        }
      },
      "source": [
        "from google.colab import drive\n",
        "drive.mount('/content/drive')"
      ],
      "execution_count": 191,
      "outputs": [
        {
          "output_type": "stream",
          "text": [
            "Drive already mounted at /content/drive; to attempt to forcibly remount, call drive.mount(\"/content/drive\", force_remount=True).\n"
          ],
          "name": "stdout"
        }
      ]
    },
    {
      "cell_type": "code",
      "metadata": {
        "id": "gV_wVCK_SRAO",
        "colab_type": "code",
        "colab": {}
      },
      "source": [
        "import pandas as pd"
      ],
      "execution_count": 0,
      "outputs": []
    },
    {
      "cell_type": "code",
      "metadata": {
        "id": "O-cXaqS8RsRe",
        "colab_type": "code",
        "colab": {}
      },
      "source": [
        "train = pd.read_csv(\"/content/drive/My Drive/credit_train.csv\")"
      ],
      "execution_count": 0,
      "outputs": []
    },
    {
      "cell_type": "code",
      "metadata": {
        "id": "CgyQODuaVfq2",
        "colab_type": "code",
        "colab": {}
      },
      "source": [
        "import numpy as np\n",
        "import pandas as pd\n",
        "from sklearn.model_selection import train_test_split    \n",
        "from sklearn.metrics import accuracy_score,classification_report\n",
        "import matplotlib.pyplot as plt\n",
        "import seaborn as sns\n",
        "from matplotlib import pyplot\n",
        "%matplotlib inline\n"
      ],
      "execution_count": 0,
      "outputs": []
    },
    {
      "cell_type": "code",
      "metadata": {
        "id": "-v6UiUWIV5la",
        "colab_type": "code",
        "outputId": "d36dde8d-d14f-4604-9bb1-ea0ae8f90414",
        "colab": {
          "base_uri": "https://localhost:8080/",
          "height": 34
        }
      },
      "source": [
        "train.shape"
      ],
      "execution_count": 195,
      "outputs": [
        {
          "output_type": "execute_result",
          "data": {
            "text/plain": [
              "(227845, 30)"
            ]
          },
          "metadata": {
            "tags": []
          },
          "execution_count": 195
        }
      ]
    },
    {
      "cell_type": "code",
      "metadata": {
        "id": "eMnCDa17V-8f",
        "colab_type": "code",
        "outputId": "c4034ccb-443e-4302-eaa9-4f01d4f75564",
        "colab": {
          "base_uri": "https://localhost:8080/",
          "height": 612
        }
      },
      "source": [
        "train.info()"
      ],
      "execution_count": 196,
      "outputs": [
        {
          "output_type": "stream",
          "text": [
            "<class 'pandas.core.frame.DataFrame'>\n",
            "RangeIndex: 227845 entries, 0 to 227844\n",
            "Data columns (total 30 columns):\n",
            "V1        227845 non-null float64\n",
            "V2        227845 non-null float64\n",
            "V3        227845 non-null float64\n",
            "V4        227845 non-null float64\n",
            "V5        227845 non-null float64\n",
            "V6        227845 non-null float64\n",
            "V7        227845 non-null float64\n",
            "V8        227845 non-null float64\n",
            "V9        227845 non-null float64\n",
            "V10       227845 non-null float64\n",
            "V11       227845 non-null float64\n",
            "V12       227845 non-null float64\n",
            "V13       227845 non-null float64\n",
            "V14       227845 non-null float64\n",
            "V15       227845 non-null float64\n",
            "V16       227845 non-null float64\n",
            "V17       227845 non-null float64\n",
            "V18       227845 non-null float64\n",
            "V19       227845 non-null float64\n",
            "V20       227845 non-null float64\n",
            "V21       227845 non-null float64\n",
            "V22       227845 non-null float64\n",
            "V23       227845 non-null float64\n",
            "V24       227845 non-null float64\n",
            "V25       227845 non-null float64\n",
            "V26       227845 non-null float64\n",
            "V27       227845 non-null float64\n",
            "V28       227845 non-null float64\n",
            "Amount    227845 non-null float64\n",
            "Class     227845 non-null object\n",
            "dtypes: float64(29), object(1)\n",
            "memory usage: 52.1+ MB\n"
          ],
          "name": "stdout"
        }
      ]
    },
    {
      "cell_type": "code",
      "metadata": {
        "id": "Eiis_bGpV_KS",
        "colab_type": "code",
        "outputId": "e4eb5688-48b4-43ab-b5fa-784f6f3adac1",
        "colab": {
          "base_uri": "https://localhost:8080/",
          "height": 34
        }
      },
      "source": [
        "train.duplicated().sum()"
      ],
      "execution_count": 197,
      "outputs": [
        {
          "output_type": "execute_result",
          "data": {
            "text/plain": [
              "6398"
            ]
          },
          "metadata": {
            "tags": []
          },
          "execution_count": 197
        }
      ]
    },
    {
      "cell_type": "code",
      "metadata": {
        "id": "rKfaea65Yk1f",
        "colab_type": "code",
        "colab": {}
      },
      "source": [
        "test = pd.read_csv(\"/content/drive/My Drive/credit_test.csv\")"
      ],
      "execution_count": 0,
      "outputs": []
    },
    {
      "cell_type": "code",
      "metadata": {
        "id": "rWbXhrs5Yyhl",
        "colab_type": "code",
        "colab": {}
      },
      "source": [
        "train[\"source\"] = \"train\"\n",
        "#test[\"source\"] = \"test\""
      ],
      "execution_count": 0,
      "outputs": []
    },
    {
      "cell_type": "code",
      "metadata": {
        "id": "xbCzWtToY5t_",
        "colab_type": "code",
        "colab": {
          "base_uri": "https://localhost:8080/",
          "height": 153
        },
        "outputId": "6cfddad7-2bb0-457e-c700-ef623f9db859"
      },
      "source": [
        "df = pd.concat([train,test])\n",
        "df = train"
      ],
      "execution_count": 200,
      "outputs": [
        {
          "output_type": "stream",
          "text": [
            "/usr/local/lib/python3.6/dist-packages/ipykernel_launcher.py:1: FutureWarning: Sorting because non-concatenation axis is not aligned. A future version\n",
            "of pandas will change to not sort by default.\n",
            "\n",
            "To accept the future behavior, pass 'sort=False'.\n",
            "\n",
            "To retain the current behavior and silence the warning, pass 'sort=True'.\n",
            "\n",
            "  \"\"\"Entry point for launching an IPython kernel.\n"
          ],
          "name": "stderr"
        }
      ]
    },
    {
      "cell_type": "code",
      "metadata": {
        "id": "Aq8gYyM4WWDK",
        "colab_type": "code",
        "colab": {}
      },
      "source": [
        "df.drop_duplicates(inplace=True)"
      ],
      "execution_count": 0,
      "outputs": []
    },
    {
      "cell_type": "code",
      "metadata": {
        "id": "qG3eYOX6aNsL",
        "colab_type": "code",
        "outputId": "710b43c9-b5e4-478e-8599-4d3a843a27f6",
        "colab": {
          "base_uri": "https://localhost:8080/",
          "height": 629
        }
      },
      "source": [
        "df.info()"
      ],
      "execution_count": 202,
      "outputs": [
        {
          "output_type": "stream",
          "text": [
            "<class 'pandas.core.frame.DataFrame'>\n",
            "Int64Index: 221447 entries, 0 to 227844\n",
            "Data columns (total 31 columns):\n",
            "V1        221447 non-null float64\n",
            "V2        221447 non-null float64\n",
            "V3        221447 non-null float64\n",
            "V4        221447 non-null float64\n",
            "V5        221447 non-null float64\n",
            "V6        221447 non-null float64\n",
            "V7        221447 non-null float64\n",
            "V8        221447 non-null float64\n",
            "V9        221447 non-null float64\n",
            "V10       221447 non-null float64\n",
            "V11       221447 non-null float64\n",
            "V12       221447 non-null float64\n",
            "V13       221447 non-null float64\n",
            "V14       221447 non-null float64\n",
            "V15       221447 non-null float64\n",
            "V16       221447 non-null float64\n",
            "V17       221447 non-null float64\n",
            "V18       221447 non-null float64\n",
            "V19       221447 non-null float64\n",
            "V20       221447 non-null float64\n",
            "V21       221447 non-null float64\n",
            "V22       221447 non-null float64\n",
            "V23       221447 non-null float64\n",
            "V24       221447 non-null float64\n",
            "V25       221447 non-null float64\n",
            "V26       221447 non-null float64\n",
            "V27       221447 non-null float64\n",
            "V28       221447 non-null float64\n",
            "Amount    221447 non-null float64\n",
            "Class     221447 non-null object\n",
            "source    221447 non-null object\n",
            "dtypes: float64(29), object(2)\n",
            "memory usage: 54.1+ MB\n"
          ],
          "name": "stdout"
        }
      ]
    },
    {
      "cell_type": "code",
      "metadata": {
        "id": "Y8ZEwah1ciLD",
        "colab_type": "code",
        "outputId": "b748b0ff-d851-47e4-93e5-320c2a4ad2ac",
        "colab": {
          "base_uri": "https://localhost:8080/",
          "height": 102
        }
      },
      "source": [
        "df.columns"
      ],
      "execution_count": 203,
      "outputs": [
        {
          "output_type": "execute_result",
          "data": {
            "text/plain": [
              "Index(['V1', 'V2', 'V3', 'V4', 'V5', 'V6', 'V7', 'V8', 'V9', 'V10', 'V11',\n",
              "       'V12', 'V13', 'V14', 'V15', 'V16', 'V17', 'V18', 'V19', 'V20', 'V21',\n",
              "       'V22', 'V23', 'V24', 'V25', 'V26', 'V27', 'V28', 'Amount', 'Class',\n",
              "       'source'],\n",
              "      dtype='object')"
            ]
          },
          "metadata": {
            "tags": []
          },
          "execution_count": 203
        }
      ]
    },
    {
      "cell_type": "code",
      "metadata": {
        "id": "AcAwSKxUJ7Sw",
        "colab_type": "code",
        "outputId": "d2827118-7883-45cc-97af-719b501d5922",
        "colab": {
          "base_uri": "https://localhost:8080/",
          "height": 68
        }
      },
      "source": [
        "df.Class.value_counts()"
      ],
      "execution_count": 204,
      "outputs": [
        {
          "output_type": "execute_result",
          "data": {
            "text/plain": [
              "'0'    221070\n",
              "'1'       377\n",
              "Name: Class, dtype: int64"
            ]
          },
          "metadata": {
            "tags": []
          },
          "execution_count": 204
        }
      ]
    },
    {
      "cell_type": "code",
      "metadata": {
        "id": "thg43QjSMbHA",
        "colab_type": "code",
        "colab": {}
      },
      "source": [
        "df_class0=df.loc[df['Class']== \"'0'\"]\n",
        "df_class1=df.loc[df['Class']== \"'1'\"]"
      ],
      "execution_count": 0,
      "outputs": []
    },
    {
      "cell_type": "code",
      "metadata": {
        "id": "LBceXKjWO8fk",
        "colab_type": "code",
        "colab": {}
      },
      "source": [
        "df_class0=df_class0.sample(n=377)"
      ],
      "execution_count": 0,
      "outputs": []
    },
    {
      "cell_type": "code",
      "metadata": {
        "id": "eeXrj874RDn-",
        "colab_type": "code",
        "colab": {}
      },
      "source": [
        "df_new = pd.concat([df_class0,df_class1])"
      ],
      "execution_count": 0,
      "outputs": []
    },
    {
      "cell_type": "code",
      "metadata": {
        "id": "YsLjdp69NeL8",
        "colab_type": "code",
        "outputId": "d987b9fd-7425-46cd-cb15-0116f96bd0f8",
        "colab": {
          "base_uri": "https://localhost:8080/",
          "height": 68
        }
      },
      "source": [
        "df_new.Class.value_counts()"
      ],
      "execution_count": 208,
      "outputs": [
        {
          "output_type": "execute_result",
          "data": {
            "text/plain": [
              "'0'    377\n",
              "'1'    377\n",
              "Name: Class, dtype: int64"
            ]
          },
          "metadata": {
            "tags": []
          },
          "execution_count": 208
        }
      ]
    },
    {
      "cell_type": "code",
      "metadata": {
        "id": "mBOb7gQLbpXR",
        "colab_type": "code",
        "colab": {}
      },
      "source": [
        "df_new[['Class']] = df_new[['Class']].astype(str).replace(\"'1'\",\"1\")\n",
        "df_new[['Class']] = df_new[['Class']].astype(str).replace(\"'0'\",\"0\")"
      ],
      "execution_count": 0,
      "outputs": []
    },
    {
      "cell_type": "code",
      "metadata": {
        "id": "3RFTXoncglbU",
        "colab_type": "code",
        "outputId": "0d3d330b-4abe-4c93-d560-b3ba07d7dd3b",
        "colab": {
          "base_uri": "https://localhost:8080/",
          "height": 68
        }
      },
      "source": [
        "df_new.Class.value_counts()"
      ],
      "execution_count": 210,
      "outputs": [
        {
          "output_type": "execute_result",
          "data": {
            "text/plain": [
              "0    377\n",
              "1    377\n",
              "Name: Class, dtype: int64"
            ]
          },
          "metadata": {
            "tags": []
          },
          "execution_count": 210
        }
      ]
    },
    {
      "cell_type": "code",
      "metadata": {
        "id": "xT_zHf0YejCe",
        "colab_type": "code",
        "outputId": "f7f03224-5b3e-48a0-bb5b-369e3496e46c",
        "colab": {
          "base_uri": "https://localhost:8080/",
          "height": 224
        }
      },
      "source": [
        "df_new.tail()"
      ],
      "execution_count": 211,
      "outputs": [
        {
          "output_type": "execute_result",
          "data": {
            "text/html": [
              "<div>\n",
              "<style scoped>\n",
              "    .dataframe tbody tr th:only-of-type {\n",
              "        vertical-align: middle;\n",
              "    }\n",
              "\n",
              "    .dataframe tbody tr th {\n",
              "        vertical-align: top;\n",
              "    }\n",
              "\n",
              "    .dataframe thead th {\n",
              "        text-align: right;\n",
              "    }\n",
              "</style>\n",
              "<table border=\"1\" class=\"dataframe\">\n",
              "  <thead>\n",
              "    <tr style=\"text-align: right;\">\n",
              "      <th></th>\n",
              "      <th>V1</th>\n",
              "      <th>V2</th>\n",
              "      <th>V3</th>\n",
              "      <th>V4</th>\n",
              "      <th>V5</th>\n",
              "      <th>V6</th>\n",
              "      <th>V7</th>\n",
              "      <th>V8</th>\n",
              "      <th>V9</th>\n",
              "      <th>V10</th>\n",
              "      <th>V11</th>\n",
              "      <th>V12</th>\n",
              "      <th>V13</th>\n",
              "      <th>V14</th>\n",
              "      <th>V15</th>\n",
              "      <th>V16</th>\n",
              "      <th>V17</th>\n",
              "      <th>V18</th>\n",
              "      <th>V19</th>\n",
              "      <th>V20</th>\n",
              "      <th>V21</th>\n",
              "      <th>V22</th>\n",
              "      <th>V23</th>\n",
              "      <th>V24</th>\n",
              "      <th>V25</th>\n",
              "      <th>V26</th>\n",
              "      <th>V27</th>\n",
              "      <th>V28</th>\n",
              "      <th>Amount</th>\n",
              "      <th>Class</th>\n",
              "      <th>source</th>\n",
              "    </tr>\n",
              "  </thead>\n",
              "  <tbody>\n",
              "    <tr>\n",
              "      <th>225598</th>\n",
              "      <td>-4.991758</td>\n",
              "      <td>5.213340</td>\n",
              "      <td>-9.111326</td>\n",
              "      <td>8.431986</td>\n",
              "      <td>-3.435516</td>\n",
              "      <td>-1.827565</td>\n",
              "      <td>-7.114303</td>\n",
              "      <td>3.431207</td>\n",
              "      <td>-3.875643</td>\n",
              "      <td>-6.868509</td>\n",
              "      <td>7.150625</td>\n",
              "      <td>-10.262984</td>\n",
              "      <td>2.733085</td>\n",
              "      <td>-10.127525</td>\n",
              "      <td>-0.262784</td>\n",
              "      <td>-5.190271</td>\n",
              "      <td>-8.655711</td>\n",
              "      <td>-2.024443</td>\n",
              "      <td>1.560479</td>\n",
              "      <td>0.098132</td>\n",
              "      <td>1.189423</td>\n",
              "      <td>0.247858</td>\n",
              "      <td>0.294448</td>\n",
              "      <td>-0.548504</td>\n",
              "      <td>-0.174617</td>\n",
              "      <td>0.406703</td>\n",
              "      <td>-0.402339</td>\n",
              "      <td>-0.882886</td>\n",
              "      <td>0.00</td>\n",
              "      <td>1</td>\n",
              "      <td>train</td>\n",
              "    </tr>\n",
              "    <tr>\n",
              "      <th>225851</th>\n",
              "      <td>-12.381048</td>\n",
              "      <td>8.213022</td>\n",
              "      <td>-16.962530</td>\n",
              "      <td>7.116091</td>\n",
              "      <td>-9.772826</td>\n",
              "      <td>-3.666836</td>\n",
              "      <td>-16.147363</td>\n",
              "      <td>2.078706</td>\n",
              "      <td>-4.250657</td>\n",
              "      <td>-16.746044</td>\n",
              "      <td>7.425801</td>\n",
              "      <td>-15.564838</td>\n",
              "      <td>-0.426338</td>\n",
              "      <td>-14.029538</td>\n",
              "      <td>-1.681889</td>\n",
              "      <td>-11.133761</td>\n",
              "      <td>-15.833589</td>\n",
              "      <td>-5.748533</td>\n",
              "      <td>2.271082</td>\n",
              "      <td>0.537795</td>\n",
              "      <td>0.167703</td>\n",
              "      <td>1.503413</td>\n",
              "      <td>-0.767755</td>\n",
              "      <td>0.371951</td>\n",
              "      <td>-1.415639</td>\n",
              "      <td>-0.517022</td>\n",
              "      <td>-0.434621</td>\n",
              "      <td>0.292721</td>\n",
              "      <td>97.00</td>\n",
              "      <td>1</td>\n",
              "      <td>train</td>\n",
              "    </tr>\n",
              "    <tr>\n",
              "      <th>226015</th>\n",
              "      <td>-3.896583</td>\n",
              "      <td>4.518355</td>\n",
              "      <td>-4.454027</td>\n",
              "      <td>5.547453</td>\n",
              "      <td>-4.121459</td>\n",
              "      <td>-1.163407</td>\n",
              "      <td>-6.805053</td>\n",
              "      <td>2.928356</td>\n",
              "      <td>-4.917130</td>\n",
              "      <td>-6.600461</td>\n",
              "      <td>3.367846</td>\n",
              "      <td>-7.888978</td>\n",
              "      <td>1.682603</td>\n",
              "      <td>-7.628652</td>\n",
              "      <td>0.779246</td>\n",
              "      <td>-7.533404</td>\n",
              "      <td>-14.064624</td>\n",
              "      <td>-4.960109</td>\n",
              "      <td>2.525785</td>\n",
              "      <td>0.757287</td>\n",
              "      <td>1.691042</td>\n",
              "      <td>0.920021</td>\n",
              "      <td>-0.151104</td>\n",
              "      <td>0.011007</td>\n",
              "      <td>0.080303</td>\n",
              "      <td>0.412191</td>\n",
              "      <td>0.635789</td>\n",
              "      <td>0.501050</td>\n",
              "      <td>4.56</td>\n",
              "      <td>1</td>\n",
              "      <td>train</td>\n",
              "    </tr>\n",
              "    <tr>\n",
              "      <th>226034</th>\n",
              "      <td>0.196707</td>\n",
              "      <td>1.189757</td>\n",
              "      <td>0.704882</td>\n",
              "      <td>2.891388</td>\n",
              "      <td>0.045555</td>\n",
              "      <td>1.245730</td>\n",
              "      <td>-1.198714</td>\n",
              "      <td>-2.421616</td>\n",
              "      <td>-1.232089</td>\n",
              "      <td>0.324239</td>\n",
              "      <td>-1.273935</td>\n",
              "      <td>-0.868686</td>\n",
              "      <td>-1.181945</td>\n",
              "      <td>1.027584</td>\n",
              "      <td>1.688132</td>\n",
              "      <td>0.256216</td>\n",
              "      <td>0.120608</td>\n",
              "      <td>-0.052346</td>\n",
              "      <td>0.329827</td>\n",
              "      <td>0.646616</td>\n",
              "      <td>-1.328132</td>\n",
              "      <td>0.189311</td>\n",
              "      <td>-0.005524</td>\n",
              "      <td>-0.814708</td>\n",
              "      <td>0.400924</td>\n",
              "      <td>0.286281</td>\n",
              "      <td>0.135215</td>\n",
              "      <td>0.257315</td>\n",
              "      <td>0.76</td>\n",
              "      <td>1</td>\n",
              "      <td>train</td>\n",
              "    </tr>\n",
              "    <tr>\n",
              "      <th>226560</th>\n",
              "      <td>1.184891</td>\n",
              "      <td>3.152084</td>\n",
              "      <td>-6.134780</td>\n",
              "      <td>5.531252</td>\n",
              "      <td>1.733867</td>\n",
              "      <td>-1.816861</td>\n",
              "      <td>-0.916696</td>\n",
              "      <td>0.265568</td>\n",
              "      <td>-3.158014</td>\n",
              "      <td>-3.890169</td>\n",
              "      <td>4.736594</td>\n",
              "      <td>-4.162115</td>\n",
              "      <td>-0.456697</td>\n",
              "      <td>-10.266758</td>\n",
              "      <td>-0.583018</td>\n",
              "      <td>0.513471</td>\n",
              "      <td>0.113665</td>\n",
              "      <td>1.488620</td>\n",
              "      <td>-1.805577</td>\n",
              "      <td>0.336442</td>\n",
              "      <td>0.124236</td>\n",
              "      <td>-0.823865</td>\n",
              "      <td>-0.079887</td>\n",
              "      <td>0.028828</td>\n",
              "      <td>0.389711</td>\n",
              "      <td>0.060171</td>\n",
              "      <td>0.485187</td>\n",
              "      <td>0.326552</td>\n",
              "      <td>0.00</td>\n",
              "      <td>1</td>\n",
              "      <td>train</td>\n",
              "    </tr>\n",
              "  </tbody>\n",
              "</table>\n",
              "</div>"
            ],
            "text/plain": [
              "               V1        V2         V3        V4  ...       V28  Amount  Class  source\n",
              "225598  -4.991758  5.213340  -9.111326  8.431986  ... -0.882886    0.00      1   train\n",
              "225851 -12.381048  8.213022 -16.962530  7.116091  ...  0.292721   97.00      1   train\n",
              "226015  -3.896583  4.518355  -4.454027  5.547453  ...  0.501050    4.56      1   train\n",
              "226034   0.196707  1.189757   0.704882  2.891388  ...  0.257315    0.76      1   train\n",
              "226560   1.184891  3.152084  -6.134780  5.531252  ...  0.326552    0.00      1   train\n",
              "\n",
              "[5 rows x 31 columns]"
            ]
          },
          "metadata": {
            "tags": []
          },
          "execution_count": 211
        }
      ]
    },
    {
      "cell_type": "code",
      "metadata": {
        "id": "4Frh-jggTTeW",
        "colab_type": "code",
        "outputId": "04dbed76-c088-4793-cb8e-6db892ee3c91",
        "colab": {
          "base_uri": "https://localhost:8080/",
          "height": 68
        }
      },
      "source": [
        "test[['Class']] = test[['Class']].astype(str).replace(\"'1'\",\"1\")\n",
        "test[['Class']] = test[['Class']].astype(str).replace(\"'0'\",\"0\")\n",
        "test.Class.value_counts()\n",
        "#test.head(370)"
      ],
      "execution_count": 212,
      "outputs": [
        {
          "output_type": "execute_result",
          "data": {
            "text/plain": [
              "0    56860\n",
              "1      102\n",
              "Name: Class, dtype: int64"
            ]
          },
          "metadata": {
            "tags": []
          },
          "execution_count": 212
        }
      ]
    },
    {
      "cell_type": "code",
      "metadata": {
        "id": "p4V-bWhg8ePg",
        "colab_type": "code",
        "outputId": "47017820-4356-4a0f-962b-b64d100b626a",
        "colab": {
          "base_uri": "https://localhost:8080/",
          "height": 224
        }
      },
      "source": [
        "df_new.head()"
      ],
      "execution_count": 213,
      "outputs": [
        {
          "output_type": "execute_result",
          "data": {
            "text/html": [
              "<div>\n",
              "<style scoped>\n",
              "    .dataframe tbody tr th:only-of-type {\n",
              "        vertical-align: middle;\n",
              "    }\n",
              "\n",
              "    .dataframe tbody tr th {\n",
              "        vertical-align: top;\n",
              "    }\n",
              "\n",
              "    .dataframe thead th {\n",
              "        text-align: right;\n",
              "    }\n",
              "</style>\n",
              "<table border=\"1\" class=\"dataframe\">\n",
              "  <thead>\n",
              "    <tr style=\"text-align: right;\">\n",
              "      <th></th>\n",
              "      <th>V1</th>\n",
              "      <th>V2</th>\n",
              "      <th>V3</th>\n",
              "      <th>V4</th>\n",
              "      <th>V5</th>\n",
              "      <th>V6</th>\n",
              "      <th>V7</th>\n",
              "      <th>V8</th>\n",
              "      <th>V9</th>\n",
              "      <th>V10</th>\n",
              "      <th>V11</th>\n",
              "      <th>V12</th>\n",
              "      <th>V13</th>\n",
              "      <th>V14</th>\n",
              "      <th>V15</th>\n",
              "      <th>V16</th>\n",
              "      <th>V17</th>\n",
              "      <th>V18</th>\n",
              "      <th>V19</th>\n",
              "      <th>V20</th>\n",
              "      <th>V21</th>\n",
              "      <th>V22</th>\n",
              "      <th>V23</th>\n",
              "      <th>V24</th>\n",
              "      <th>V25</th>\n",
              "      <th>V26</th>\n",
              "      <th>V27</th>\n",
              "      <th>V28</th>\n",
              "      <th>Amount</th>\n",
              "      <th>Class</th>\n",
              "      <th>source</th>\n",
              "    </tr>\n",
              "  </thead>\n",
              "  <tbody>\n",
              "    <tr>\n",
              "      <th>175848</th>\n",
              "      <td>1.506986</td>\n",
              "      <td>-0.784194</td>\n",
              "      <td>0.308471</td>\n",
              "      <td>-1.363078</td>\n",
              "      <td>-1.296421</td>\n",
              "      <td>-1.161406</td>\n",
              "      <td>-0.587566</td>\n",
              "      <td>-0.354658</td>\n",
              "      <td>-2.199942</td>\n",
              "      <td>1.396492</td>\n",
              "      <td>-0.188176</td>\n",
              "      <td>-0.315431</td>\n",
              "      <td>1.336265</td>\n",
              "      <td>-0.308978</td>\n",
              "      <td>0.401289</td>\n",
              "      <td>-0.470669</td>\n",
              "      <td>0.509407</td>\n",
              "      <td>-0.686785</td>\n",
              "      <td>0.016586</td>\n",
              "      <td>-0.254439</td>\n",
              "      <td>-0.629553</td>\n",
              "      <td>-1.494732</td>\n",
              "      <td>0.270893</td>\n",
              "      <td>0.323015</td>\n",
              "      <td>0.113213</td>\n",
              "      <td>-0.645746</td>\n",
              "      <td>0.021284</td>\n",
              "      <td>0.028569</td>\n",
              "      <td>25.00</td>\n",
              "      <td>0</td>\n",
              "      <td>train</td>\n",
              "    </tr>\n",
              "    <tr>\n",
              "      <th>52320</th>\n",
              "      <td>1.068379</td>\n",
              "      <td>-0.236857</td>\n",
              "      <td>0.545361</td>\n",
              "      <td>0.697808</td>\n",
              "      <td>-0.290215</td>\n",
              "      <td>0.646347</td>\n",
              "      <td>-0.421183</td>\n",
              "      <td>0.359645</td>\n",
              "      <td>0.460044</td>\n",
              "      <td>-0.117804</td>\n",
              "      <td>1.240597</td>\n",
              "      <td>0.944544</td>\n",
              "      <td>-0.925677</td>\n",
              "      <td>0.212755</td>\n",
              "      <td>-0.512560</td>\n",
              "      <td>-0.724693</td>\n",
              "      <td>0.445298</td>\n",
              "      <td>-0.882338</td>\n",
              "      <td>-0.247320</td>\n",
              "      <td>-0.197137</td>\n",
              "      <td>0.018995</td>\n",
              "      <td>0.271715</td>\n",
              "      <td>-0.043772</td>\n",
              "      <td>-0.245004</td>\n",
              "      <td>0.378178</td>\n",
              "      <td>0.481289</td>\n",
              "      <td>0.006217</td>\n",
              "      <td>-0.005388</td>\n",
              "      <td>19.99</td>\n",
              "      <td>0</td>\n",
              "      <td>train</td>\n",
              "    </tr>\n",
              "    <tr>\n",
              "      <th>161750</th>\n",
              "      <td>-0.457224</td>\n",
              "      <td>1.193276</td>\n",
              "      <td>0.956903</td>\n",
              "      <td>0.095705</td>\n",
              "      <td>1.032682</td>\n",
              "      <td>-0.819609</td>\n",
              "      <td>1.365080</td>\n",
              "      <td>-0.448587</td>\n",
              "      <td>-0.540321</td>\n",
              "      <td>-1.101345</td>\n",
              "      <td>-0.201008</td>\n",
              "      <td>0.133588</td>\n",
              "      <td>0.722112</td>\n",
              "      <td>-1.289729</td>\n",
              "      <td>0.683742</td>\n",
              "      <td>-0.592753</td>\n",
              "      <td>0.950495</td>\n",
              "      <td>-0.018737</td>\n",
              "      <td>1.092159</td>\n",
              "      <td>0.239426</td>\n",
              "      <td>-0.344938</td>\n",
              "      <td>-0.712633</td>\n",
              "      <td>-0.372191</td>\n",
              "      <td>-0.181927</td>\n",
              "      <td>0.534589</td>\n",
              "      <td>-0.303438</td>\n",
              "      <td>-0.095764</td>\n",
              "      <td>-0.130691</td>\n",
              "      <td>9.99</td>\n",
              "      <td>0</td>\n",
              "      <td>train</td>\n",
              "    </tr>\n",
              "    <tr>\n",
              "      <th>172352</th>\n",
              "      <td>2.054124</td>\n",
              "      <td>-0.103209</td>\n",
              "      <td>-1.076953</td>\n",
              "      <td>0.427126</td>\n",
              "      <td>-0.203100</td>\n",
              "      <td>-1.231401</td>\n",
              "      <td>0.150920</td>\n",
              "      <td>-0.303992</td>\n",
              "      <td>0.627268</td>\n",
              "      <td>0.088399</td>\n",
              "      <td>-0.830835</td>\n",
              "      <td>0.136894</td>\n",
              "      <td>-0.509993</td>\n",
              "      <td>0.390851</td>\n",
              "      <td>0.102705</td>\n",
              "      <td>-0.080427</td>\n",
              "      <td>-0.251967</td>\n",
              "      <td>-0.801471</td>\n",
              "      <td>0.145455</td>\n",
              "      <td>-0.253895</td>\n",
              "      <td>-0.293032</td>\n",
              "      <td>-0.746338</td>\n",
              "      <td>0.344940</td>\n",
              "      <td>0.030808</td>\n",
              "      <td>-0.320323</td>\n",
              "      <td>0.196909</td>\n",
              "      <td>-0.075166</td>\n",
              "      <td>-0.060434</td>\n",
              "      <td>5.49</td>\n",
              "      <td>0</td>\n",
              "      <td>train</td>\n",
              "    </tr>\n",
              "    <tr>\n",
              "      <th>37035</th>\n",
              "      <td>-1.019540</td>\n",
              "      <td>-0.170834</td>\n",
              "      <td>2.627139</td>\n",
              "      <td>0.816135</td>\n",
              "      <td>-1.093878</td>\n",
              "      <td>0.880725</td>\n",
              "      <td>-0.869566</td>\n",
              "      <td>0.553145</td>\n",
              "      <td>1.664969</td>\n",
              "      <td>-0.249217</td>\n",
              "      <td>-1.384758</td>\n",
              "      <td>-0.300912</td>\n",
              "      <td>-1.423933</td>\n",
              "      <td>-0.974418</td>\n",
              "      <td>-0.391864</td>\n",
              "      <td>-0.772599</td>\n",
              "      <td>0.757508</td>\n",
              "      <td>-0.098532</td>\n",
              "      <td>0.604532</td>\n",
              "      <td>-0.033102</td>\n",
              "      <td>0.177311</td>\n",
              "      <td>1.039499</td>\n",
              "      <td>0.009627</td>\n",
              "      <td>0.151741</td>\n",
              "      <td>-0.610426</td>\n",
              "      <td>0.720737</td>\n",
              "      <td>0.190189</td>\n",
              "      <td>0.312655</td>\n",
              "      <td>38.82</td>\n",
              "      <td>0</td>\n",
              "      <td>train</td>\n",
              "    </tr>\n",
              "  </tbody>\n",
              "</table>\n",
              "</div>"
            ],
            "text/plain": [
              "              V1        V2        V3        V4  ...       V28  Amount  Class  source\n",
              "175848  1.506986 -0.784194  0.308471 -1.363078  ...  0.028569   25.00      0   train\n",
              "52320   1.068379 -0.236857  0.545361  0.697808  ... -0.005388   19.99      0   train\n",
              "161750 -0.457224  1.193276  0.956903  0.095705  ... -0.130691    9.99      0   train\n",
              "172352  2.054124 -0.103209 -1.076953  0.427126  ... -0.060434    5.49      0   train\n",
              "37035  -1.019540 -0.170834  2.627139  0.816135  ...  0.312655   38.82      0   train\n",
              "\n",
              "[5 rows x 31 columns]"
            ]
          },
          "metadata": {
            "tags": []
          },
          "execution_count": 213
        }
      ]
    },
    {
      "cell_type": "markdown",
      "metadata": {
        "id": "e9l9Z42Hi5XG",
        "colab_type": "text"
      },
      "source": [
        ""
      ]
    },
    {
      "cell_type": "markdown",
      "metadata": {
        "id": "a1smqo86j0kF",
        "colab_type": "text"
      },
      "source": [
        ""
      ]
    },
    {
      "cell_type": "code",
      "metadata": {
        "id": "_2Vy8J4GR8On",
        "colab_type": "code",
        "colab": {}
      },
      "source": [
        "x_train = df_new.drop(['Class','source'],axis=1)\n",
        "y_train = df_new['Class']"
      ],
      "execution_count": 0,
      "outputs": []
    },
    {
      "cell_type": "code",
      "metadata": {
        "id": "7ChuEBRsTJwG",
        "colab_type": "code",
        "colab": {}
      },
      "source": [
        "x_test = test.drop(['Class'],axis=1)\n",
        "y_test = test['Class']"
      ],
      "execution_count": 0,
      "outputs": []
    },
    {
      "cell_type": "code",
      "metadata": {
        "id": "PDm9VES4TiR-",
        "colab_type": "code",
        "colab": {}
      },
      "source": [
        "from sklearn.ensemble import  RandomForestClassifier\n",
        "from sklearn import metrics\n",
        "forest = RandomForestClassifier(n_jobs=-1,n_estimators=20, \n",
        "                                       min_samples_leaf=25, \n",
        "                                       max_features=0.3).fit(x_train, y_train) "
      ],
      "execution_count": 0,
      "outputs": []
    },
    {
      "cell_type": "code",
      "metadata": {
        "id": "RZXSh8pSYKNU",
        "colab_type": "code",
        "colab": {}
      },
      "source": [
        "err_df = pd.DataFrame(columns=['Algo','Test MAPE','Train MAPE'])"
      ],
      "execution_count": 0,
      "outputs": []
    },
    {
      "cell_type": "code",
      "metadata": {
        "id": "baCWjAitUznA",
        "colab_type": "code",
        "outputId": "5de801b6-2a6f-45ed-ca0c-d3013b2afc0d",
        "colab": {
          "base_uri": "https://localhost:8080/",
          "height": 51
        }
      },
      "source": [
        "forest_train_predict = forest.predict(x_train)\n",
        "forest_test_predict = forest.predict(x_test)\n",
        "print(metrics.accuracy_score(y_test, forest_test_predict))\n",
        "print(metrics.accuracy_score(y_train, forest_train_predict))\n",
        "err_df.loc[1]=['Random forest',accuracy_score(y_test,forest_test_predict),accuracy_score(y_train,forest_train_predict)]\n"
      ],
      "execution_count": 218,
      "outputs": [
        {
          "output_type": "stream",
          "text": [
            "0.9800919911519961\n",
            "0.9429708222811671\n"
          ],
          "name": "stdout"
        }
      ]
    },
    {
      "cell_type": "code",
      "metadata": {
        "id": "KrxWOe6sWTx4",
        "colab_type": "code",
        "outputId": "3f09ad9d-93eb-45d2-83c8-a16e706b02f1",
        "colab": {
          "base_uri": "https://localhost:8080/",
          "height": 51
        }
      },
      "source": [
        "import xgboost as xgb\n",
        "xgb_fit = xgb.XGBClassifier(max_depth=2, n_estimators=100, learning_rate=0.1).fit(x_train, y_train)\n",
        "xgb_train_predict = xgb_fit.predict(x_train)\n",
        "xgb_test_predict = xgb_fit.predict(x_test)\n",
        "print(\"Xgb Accuracy train:\",metrics.accuracy_score(y_train,xgb_train_predict))\n",
        "print(\"Xgb Accuracy test:\",metrics.accuracy_score(y_test,xgb_test_predict))\n",
        "err_df.loc[2]=['XGB',metrics.accuracy_score(y_test,xgb_test_predict),metrics.accuracy_score(y_train,xgb_train_predict)]"
      ],
      "execution_count": 219,
      "outputs": [
        {
          "output_type": "stream",
          "text": [
            "Xgb Accuracy train: 0.9854111405835544\n",
            "Xgb Accuracy test: 0.9677328745479442\n"
          ],
          "name": "stdout"
        }
      ]
    },
    {
      "cell_type": "code",
      "metadata": {
        "id": "4bbRNxlMYYS6",
        "colab_type": "code",
        "outputId": "615a4c79-cc05-4711-d6da-ade17de624d9",
        "colab": {
          "base_uri": "https://localhost:8080/",
          "height": 105
        }
      },
      "source": [
        "from sklearn.linear_model import LogisticRegression\n",
        "log_fit = LogisticRegression().fit(x_train,y_train)\n",
        "log_train_predict = log_fit.predict(x_train)\n",
        "log_test_predict = log_fit.predict(x_test)\n",
        "print(\"log Accuracy train:\",metrics.accuracy_score(y_train,log_train_predict))\n",
        "print(\"log Accuracy test:\",metrics.accuracy_score(y_test,log_test_predict))\n",
        "err_df.loc[3]=['log',metrics.accuracy_score(y_test,log_test_predict),metrics.accuracy_score(y_train,log_train_predict)]"
      ],
      "execution_count": 220,
      "outputs": [
        {
          "output_type": "stream",
          "text": [
            "/usr/local/lib/python3.6/dist-packages/sklearn/linear_model/logistic.py:432: FutureWarning: Default solver will be changed to 'lbfgs' in 0.22. Specify a solver to silence this warning.\n",
            "  FutureWarning)\n"
          ],
          "name": "stderr"
        },
        {
          "output_type": "stream",
          "text": [
            "log Accuracy train: 0.9562334217506632\n",
            "log Accuracy test: 0.960745760331449\n"
          ],
          "name": "stdout"
        }
      ]
    },
    {
      "cell_type": "code",
      "metadata": {
        "id": "XvvBT5UcaQf8",
        "colab_type": "code",
        "colab": {
          "base_uri": "https://localhost:8080/",
          "height": 445
        },
        "outputId": "49876d4a-b47a-4255-ef8a-db7c2df743ff"
      },
      "source": [
        "from sklearn.model_selection import GridSearchCV\n",
        "param_grid = [\n",
        "{'n_estimators': [1,5,10,15,20,25,30], 'max_features': [0.1, 0.2, 0.3, 0.4, 0.5, 0.6, 0.7, 0.8, 0.9, 1. ], \n",
        " 'min_samples_leaf': [1, 3, 5, 10, 25], 'bootstrap': [True, False]}\n",
        "]\n",
        "forest = RandomForestClassifier(n_jobs=-1)\n",
        "grid_search_forest = GridSearchCV(forest, param_grid, cv=10, scoring='neg_mean_squared_error')\n",
        "grid_search_forest.fit(x_train, y_train)"
      ],
      "execution_count": 181,
      "outputs": [
        {
          "output_type": "stream",
          "text": [
            "/usr/local/lib/python3.6/dist-packages/sklearn/model_selection/_search.py:814: DeprecationWarning: The default of the `iid` parameter will change from True to False in version 0.22 and will be removed in 0.24. This will change numeric results when test-set sizes are unequal.\n",
            "  DeprecationWarning)\n"
          ],
          "name": "stderr"
        },
        {
          "output_type": "execute_result",
          "data": {
            "text/plain": [
              "GridSearchCV(cv=10, error_score='raise-deprecating',\n",
              "             estimator=RandomForestClassifier(bootstrap=True, class_weight=None,\n",
              "                                              criterion='gini', max_depth=None,\n",
              "                                              max_features='auto',\n",
              "                                              max_leaf_nodes=None,\n",
              "                                              min_impurity_decrease=0.0,\n",
              "                                              min_impurity_split=None,\n",
              "                                              min_samples_leaf=1,\n",
              "                                              min_samples_split=2,\n",
              "                                              min_weight_fraction_leaf=0.0,\n",
              "                                              n_estimators='warn', n_jobs=-1,\n",
              "                                              oob_score=False,\n",
              "                                              random_state=None, verbose=0,\n",
              "                                              warm_start=False),\n",
              "             iid='warn', n_jobs=None,\n",
              "             param_grid=[{'bootstrap': [True, False],\n",
              "                          'max_features': [0.1, 0.2, 0.3, 0.4, 0.5, 0.6, 0.7,\n",
              "                                           0.8, 0.9, 1.0],\n",
              "                          'min_samples_leaf': [1, 3, 5, 10, 25],\n",
              "                          'n_estimators': [1, 5, 10, 15, 20, 25, 30]}],\n",
              "             pre_dispatch='2*n_jobs', refit=True, return_train_score=False,\n",
              "             scoring='neg_mean_squared_error', verbose=0)"
            ]
          },
          "metadata": {
            "tags": []
          },
          "execution_count": 181
        }
      ]
    },
    {
      "cell_type": "code",
      "metadata": {
        "id": "ZPVLnlxdkWCZ",
        "colab_type": "code",
        "colab": {
          "base_uri": "https://localhost:8080/",
          "height": 51
        },
        "outputId": "6c0b785f-5f4e-4c7a-d5cb-728c8a94bc64"
      },
      "source": [
        "grid_predict_train = grid_search_forest.predict(x_train)\n",
        "grid_predict_test = grid_search_forest.predict(x_test)\n",
        "print(metrics.accuracy_score(y_test, grid_predict_test))\n",
        "print(metrics.accuracy_score(y_train, grid_predict_train))\n",
        "err_df.loc[4]=['Grid search RF',accuracy_score(y_test,grid_predict_test),accuracy_score(y_train,grid_predict_train)]\n"
      ],
      "execution_count": 222,
      "outputs": [
        {
          "output_type": "stream",
          "text": [
            "0.9772655454513536\n",
            "0.9482758620689655\n"
          ],
          "name": "stdout"
        }
      ]
    },
    {
      "cell_type": "code",
      "metadata": {
        "id": "3t7_H0QGmQ8H",
        "colab_type": "code",
        "colab": {
          "base_uri": "https://localhost:8080/",
          "height": 224
        },
        "outputId": "c3e00a39-2df8-4122-f3c6-13128ee7ee1d"
      },
      "source": [
        "# Scaling\n",
        "\n",
        "from sklearn.preprocessing import StandardScaler\n",
        "\n",
        "ss = StandardScaler()\n",
        "df_new = df_new.drop(['source'],axis=1)\n",
        "df_new.head()\n"
      ],
      "execution_count": 223,
      "outputs": [
        {
          "output_type": "execute_result",
          "data": {
            "text/html": [
              "<div>\n",
              "<style scoped>\n",
              "    .dataframe tbody tr th:only-of-type {\n",
              "        vertical-align: middle;\n",
              "    }\n",
              "\n",
              "    .dataframe tbody tr th {\n",
              "        vertical-align: top;\n",
              "    }\n",
              "\n",
              "    .dataframe thead th {\n",
              "        text-align: right;\n",
              "    }\n",
              "</style>\n",
              "<table border=\"1\" class=\"dataframe\">\n",
              "  <thead>\n",
              "    <tr style=\"text-align: right;\">\n",
              "      <th></th>\n",
              "      <th>V1</th>\n",
              "      <th>V2</th>\n",
              "      <th>V3</th>\n",
              "      <th>V4</th>\n",
              "      <th>V5</th>\n",
              "      <th>V6</th>\n",
              "      <th>V7</th>\n",
              "      <th>V8</th>\n",
              "      <th>V9</th>\n",
              "      <th>V10</th>\n",
              "      <th>V11</th>\n",
              "      <th>V12</th>\n",
              "      <th>V13</th>\n",
              "      <th>V14</th>\n",
              "      <th>V15</th>\n",
              "      <th>V16</th>\n",
              "      <th>V17</th>\n",
              "      <th>V18</th>\n",
              "      <th>V19</th>\n",
              "      <th>V20</th>\n",
              "      <th>V21</th>\n",
              "      <th>V22</th>\n",
              "      <th>V23</th>\n",
              "      <th>V24</th>\n",
              "      <th>V25</th>\n",
              "      <th>V26</th>\n",
              "      <th>V27</th>\n",
              "      <th>V28</th>\n",
              "      <th>Amount</th>\n",
              "      <th>Class</th>\n",
              "    </tr>\n",
              "  </thead>\n",
              "  <tbody>\n",
              "    <tr>\n",
              "      <th>175848</th>\n",
              "      <td>1.506986</td>\n",
              "      <td>-0.784194</td>\n",
              "      <td>0.308471</td>\n",
              "      <td>-1.363078</td>\n",
              "      <td>-1.296421</td>\n",
              "      <td>-1.161406</td>\n",
              "      <td>-0.587566</td>\n",
              "      <td>-0.354658</td>\n",
              "      <td>-2.199942</td>\n",
              "      <td>1.396492</td>\n",
              "      <td>-0.188176</td>\n",
              "      <td>-0.315431</td>\n",
              "      <td>1.336265</td>\n",
              "      <td>-0.308978</td>\n",
              "      <td>0.401289</td>\n",
              "      <td>-0.470669</td>\n",
              "      <td>0.509407</td>\n",
              "      <td>-0.686785</td>\n",
              "      <td>0.016586</td>\n",
              "      <td>-0.254439</td>\n",
              "      <td>-0.629553</td>\n",
              "      <td>-1.494732</td>\n",
              "      <td>0.270893</td>\n",
              "      <td>0.323015</td>\n",
              "      <td>0.113213</td>\n",
              "      <td>-0.645746</td>\n",
              "      <td>0.021284</td>\n",
              "      <td>0.028569</td>\n",
              "      <td>25.00</td>\n",
              "      <td>0</td>\n",
              "    </tr>\n",
              "    <tr>\n",
              "      <th>52320</th>\n",
              "      <td>1.068379</td>\n",
              "      <td>-0.236857</td>\n",
              "      <td>0.545361</td>\n",
              "      <td>0.697808</td>\n",
              "      <td>-0.290215</td>\n",
              "      <td>0.646347</td>\n",
              "      <td>-0.421183</td>\n",
              "      <td>0.359645</td>\n",
              "      <td>0.460044</td>\n",
              "      <td>-0.117804</td>\n",
              "      <td>1.240597</td>\n",
              "      <td>0.944544</td>\n",
              "      <td>-0.925677</td>\n",
              "      <td>0.212755</td>\n",
              "      <td>-0.512560</td>\n",
              "      <td>-0.724693</td>\n",
              "      <td>0.445298</td>\n",
              "      <td>-0.882338</td>\n",
              "      <td>-0.247320</td>\n",
              "      <td>-0.197137</td>\n",
              "      <td>0.018995</td>\n",
              "      <td>0.271715</td>\n",
              "      <td>-0.043772</td>\n",
              "      <td>-0.245004</td>\n",
              "      <td>0.378178</td>\n",
              "      <td>0.481289</td>\n",
              "      <td>0.006217</td>\n",
              "      <td>-0.005388</td>\n",
              "      <td>19.99</td>\n",
              "      <td>0</td>\n",
              "    </tr>\n",
              "    <tr>\n",
              "      <th>161750</th>\n",
              "      <td>-0.457224</td>\n",
              "      <td>1.193276</td>\n",
              "      <td>0.956903</td>\n",
              "      <td>0.095705</td>\n",
              "      <td>1.032682</td>\n",
              "      <td>-0.819609</td>\n",
              "      <td>1.365080</td>\n",
              "      <td>-0.448587</td>\n",
              "      <td>-0.540321</td>\n",
              "      <td>-1.101345</td>\n",
              "      <td>-0.201008</td>\n",
              "      <td>0.133588</td>\n",
              "      <td>0.722112</td>\n",
              "      <td>-1.289729</td>\n",
              "      <td>0.683742</td>\n",
              "      <td>-0.592753</td>\n",
              "      <td>0.950495</td>\n",
              "      <td>-0.018737</td>\n",
              "      <td>1.092159</td>\n",
              "      <td>0.239426</td>\n",
              "      <td>-0.344938</td>\n",
              "      <td>-0.712633</td>\n",
              "      <td>-0.372191</td>\n",
              "      <td>-0.181927</td>\n",
              "      <td>0.534589</td>\n",
              "      <td>-0.303438</td>\n",
              "      <td>-0.095764</td>\n",
              "      <td>-0.130691</td>\n",
              "      <td>9.99</td>\n",
              "      <td>0</td>\n",
              "    </tr>\n",
              "    <tr>\n",
              "      <th>172352</th>\n",
              "      <td>2.054124</td>\n",
              "      <td>-0.103209</td>\n",
              "      <td>-1.076953</td>\n",
              "      <td>0.427126</td>\n",
              "      <td>-0.203100</td>\n",
              "      <td>-1.231401</td>\n",
              "      <td>0.150920</td>\n",
              "      <td>-0.303992</td>\n",
              "      <td>0.627268</td>\n",
              "      <td>0.088399</td>\n",
              "      <td>-0.830835</td>\n",
              "      <td>0.136894</td>\n",
              "      <td>-0.509993</td>\n",
              "      <td>0.390851</td>\n",
              "      <td>0.102705</td>\n",
              "      <td>-0.080427</td>\n",
              "      <td>-0.251967</td>\n",
              "      <td>-0.801471</td>\n",
              "      <td>0.145455</td>\n",
              "      <td>-0.253895</td>\n",
              "      <td>-0.293032</td>\n",
              "      <td>-0.746338</td>\n",
              "      <td>0.344940</td>\n",
              "      <td>0.030808</td>\n",
              "      <td>-0.320323</td>\n",
              "      <td>0.196909</td>\n",
              "      <td>-0.075166</td>\n",
              "      <td>-0.060434</td>\n",
              "      <td>5.49</td>\n",
              "      <td>0</td>\n",
              "    </tr>\n",
              "    <tr>\n",
              "      <th>37035</th>\n",
              "      <td>-1.019540</td>\n",
              "      <td>-0.170834</td>\n",
              "      <td>2.627139</td>\n",
              "      <td>0.816135</td>\n",
              "      <td>-1.093878</td>\n",
              "      <td>0.880725</td>\n",
              "      <td>-0.869566</td>\n",
              "      <td>0.553145</td>\n",
              "      <td>1.664969</td>\n",
              "      <td>-0.249217</td>\n",
              "      <td>-1.384758</td>\n",
              "      <td>-0.300912</td>\n",
              "      <td>-1.423933</td>\n",
              "      <td>-0.974418</td>\n",
              "      <td>-0.391864</td>\n",
              "      <td>-0.772599</td>\n",
              "      <td>0.757508</td>\n",
              "      <td>-0.098532</td>\n",
              "      <td>0.604532</td>\n",
              "      <td>-0.033102</td>\n",
              "      <td>0.177311</td>\n",
              "      <td>1.039499</td>\n",
              "      <td>0.009627</td>\n",
              "      <td>0.151741</td>\n",
              "      <td>-0.610426</td>\n",
              "      <td>0.720737</td>\n",
              "      <td>0.190189</td>\n",
              "      <td>0.312655</td>\n",
              "      <td>38.82</td>\n",
              "      <td>0</td>\n",
              "    </tr>\n",
              "  </tbody>\n",
              "</table>\n",
              "</div>"
            ],
            "text/plain": [
              "              V1        V2        V3  ...       V28  Amount  Class\n",
              "175848  1.506986 -0.784194  0.308471  ...  0.028569   25.00      0\n",
              "52320   1.068379 -0.236857  0.545361  ... -0.005388   19.99      0\n",
              "161750 -0.457224  1.193276  0.956903  ... -0.130691    9.99      0\n",
              "172352  2.054124 -0.103209 -1.076953  ... -0.060434    5.49      0\n",
              "37035  -1.019540 -0.170834  2.627139  ...  0.312655   38.82      0\n",
              "\n",
              "[5 rows x 30 columns]"
            ]
          },
          "metadata": {
            "tags": []
          },
          "execution_count": 223
        }
      ]
    },
    {
      "cell_type": "code",
      "metadata": {
        "colab_type": "code",
        "id": "zd6DBLp0nBnp",
        "colab": {}
      },
      "source": [
        "x_train = df_new.drop(['Class'],axis=1)\n",
        "y_train = df_new['Class']\n",
        "x_train = pd.DataFrame(ss.fit_transform(x_train),columns = x_train.columns)\n"
      ],
      "execution_count": 0,
      "outputs": []
    },
    {
      "cell_type": "code",
      "metadata": {
        "colab_type": "code",
        "id": "0ntnaBWXnBn8",
        "colab": {}
      },
      "source": [
        "x_test = test.drop(['Class'],axis=1)\n",
        "y_test = test['Class']\n",
        "x_test = pd.DataFrame(ss.fit_transform(x_test),columns = x_test.columns)"
      ],
      "execution_count": 0,
      "outputs": []
    },
    {
      "cell_type": "code",
      "metadata": {
        "colab_type": "code",
        "id": "4wSR77tqnXw0",
        "colab": {
          "base_uri": "https://localhost:8080/",
          "height": 51
        },
        "outputId": "f175efed-76e9-47f8-8a09-cd886b740d6d"
      },
      "source": [
        "forest_train_predict = forest.predict(x_train)\n",
        "forest_test_predict = forest.predict(x_test)\n",
        "print(metrics.accuracy_score(y_test, forest_test_predict))\n",
        "print(metrics.accuracy_score(y_train, forest_train_predict))\n",
        "err_df.loc[5]=['Random forest',accuracy_score(y_test,forest_test_predict),accuracy_score(y_train,forest_train_predict)]\n"
      ],
      "execution_count": 226,
      "outputs": [
        {
          "output_type": "stream",
          "text": [
            "0.9802851023489344\n",
            "0.6021220159151194\n"
          ],
          "name": "stdout"
        }
      ]
    },
    {
      "cell_type": "code",
      "metadata": {
        "colab_type": "code",
        "id": "Vn9suXE2nXxT",
        "colab": {
          "base_uri": "https://localhost:8080/",
          "height": 51
        },
        "outputId": "1a9ea6f2-2730-4987-f730-2a6292a1802a"
      },
      "source": [
        "import xgboost as xgb\n",
        "xgb_fit = xgb.XGBClassifier(max_depth=2, n_estimators=100, learning_rate=0.1).fit(x_train, y_train)\n",
        "xgb_train_predict = xgb_fit.predict(x_train)\n",
        "xgb_test_predict = xgb_fit.predict(x_test)\n",
        "print(\"Xgb Accuracy train:\",metrics.accuracy_score(y_train,xgb_train_predict))\n",
        "print(\"Xgb Accuracy test:\",metrics.accuracy_score(y_test,xgb_test_predict))\n",
        "err_df.loc[6]=['XGB',metrics.accuracy_score(y_test,xgb_test_predict),metrics.accuracy_score(y_train,xgb_train_predict)]"
      ],
      "execution_count": 227,
      "outputs": [
        {
          "output_type": "stream",
          "text": [
            "Xgb Accuracy train: 0.9854111405835544\n",
            "Xgb Accuracy test: 0.18487763772339455\n"
          ],
          "name": "stdout"
        }
      ]
    },
    {
      "cell_type": "code",
      "metadata": {
        "id": "PoqWNcHunh41",
        "colab_type": "code",
        "colab": {}
      },
      "source": [
        ""
      ],
      "execution_count": 0,
      "outputs": []
    },
    {
      "cell_type": "code",
      "metadata": {
        "colab_type": "code",
        "id": "GsgMetxhniMC",
        "colab": {
          "base_uri": "https://localhost:8080/",
          "height": 105
        },
        "outputId": "703578f3-4ab2-4e86-d7cb-2333ef5ac3c8"
      },
      "source": [
        "from sklearn.linear_model import LogisticRegression\n",
        "log_fit = LogisticRegression().fit(x_train,y_train)\n",
        "log_train_predict = log_fit.predict(x_train)\n",
        "log_test_predict = log_fit.predict(x_test)\n",
        "print(\"log Accuracy train:\",metrics.accuracy_score(y_train,log_train_predict))\n",
        "print(\"log Accuracy test:\",metrics.accuracy_score(y_test,log_test_predict))\n",
        "err_df.loc[7]=['log',metrics.accuracy_score(y_test,log_test_predict),metrics.accuracy_score(y_train,log_train_predict)]"
      ],
      "execution_count": 228,
      "outputs": [
        {
          "output_type": "stream",
          "text": [
            "/usr/local/lib/python3.6/dist-packages/sklearn/linear_model/logistic.py:432: FutureWarning: Default solver will be changed to 'lbfgs' in 0.22. Specify a solver to silence this warning.\n",
            "  FutureWarning)\n"
          ],
          "name": "stderr"
        },
        {
          "output_type": "stream",
          "text": [
            "log Accuracy train: 0.9562334217506632\n",
            "log Accuracy test: 0.17023629788279906\n"
          ],
          "name": "stdout"
        }
      ]
    }
  ]
}