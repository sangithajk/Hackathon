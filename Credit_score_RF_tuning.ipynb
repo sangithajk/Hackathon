{
  "nbformat": 4,
  "nbformat_minor": 0,
  "metadata": {
    "colab": {
      "name": "Credit score RF tuning",
      "provenance": [],
      "collapsed_sections": [],
      "machine_shape": "hm",
      "include_colab_link": true
    },
    "kernelspec": {
      "name": "python3",
      "display_name": "Python 3"
    }
  },
  "cells": [
    {
      "cell_type": "markdown",
      "metadata": {
        "id": "view-in-github",
        "colab_type": "text"
      },
      "source": [
        "<a href=\"https://colab.research.google.com/github/sangithajk/Hackathon/blob/master/Credit_score_RF_tuning.ipynb\" target=\"_parent\"><img src=\"https://colab.research.google.com/assets/colab-badge.svg\" alt=\"Open In Colab\"/></a>"
      ]
    },
    {
      "cell_type": "code",
      "metadata": {
        "id": "D96BYS0z-YNe",
        "colab_type": "code",
        "outputId": "89c47014-fe98-4f98-ed03-a52a52d50b3b",
        "colab": {
          "base_uri": "https://localhost:8080/",
          "height": 122
        }
      },
      "source": [
        "from google.colab import drive\n",
        "drive.mount('/content/drive')"
      ],
      "execution_count": 0,
      "outputs": [
        {
          "output_type": "stream",
          "text": [
            "Go to this URL in a browser: https://accounts.google.com/o/oauth2/auth?client_id=947318989803-6bn6qk8qdgf4n4g3pfee6491hc0brc4i.apps.googleusercontent.com&redirect_uri=urn%3Aietf%3Awg%3Aoauth%3A2.0%3Aoob&scope=email%20https%3A%2F%2Fwww.googleapis.com%2Fauth%2Fdocs.test%20https%3A%2F%2Fwww.googleapis.com%2Fauth%2Fdrive%20https%3A%2F%2Fwww.googleapis.com%2Fauth%2Fdrive.photos.readonly%20https%3A%2F%2Fwww.googleapis.com%2Fauth%2Fpeopleapi.readonly&response_type=code\n",
            "\n",
            "Enter your authorization code:\n",
            "··········\n",
            "Mounted at /content/drive\n"
          ],
          "name": "stdout"
        }
      ]
    },
    {
      "cell_type": "code",
      "metadata": {
        "id": "iJvmQMq3--Ne",
        "colab_type": "code",
        "colab": {}
      },
      "source": [
        "import pandas as pd"
      ],
      "execution_count": 0,
      "outputs": []
    },
    {
      "cell_type": "code",
      "metadata": {
        "id": "JvjpXH8A_I8n",
        "colab_type": "code",
        "colab": {}
      },
      "source": [
        "train = pd.read_csv(\"/content/drive/My Drive/CreditScore_train.csv\")\n",
        "test = pd.read_csv(\"/content/drive/My Drive/CreditScore_test.csv\")"
      ],
      "execution_count": 0,
      "outputs": []
    },
    {
      "cell_type": "code",
      "metadata": {
        "id": "V6J-v3V2_XyZ",
        "colab_type": "code",
        "colab": {}
      },
      "source": [
        "train[\"source\"] = \"train\"\n",
        "test[\"source\"] = \"test\"\n",
        "df = pd.concat([train,test])"
      ],
      "execution_count": 0,
      "outputs": []
    },
    {
      "cell_type": "code",
      "metadata": {
        "id": "MvC9VIfN_xkp",
        "colab_type": "code",
        "outputId": "87b25487-80e2-453f-abfc-060c863af39d",
        "colab": {
          "base_uri": "https://localhost:8080/",
          "height": 253
        }
      },
      "source": [
        "df.head()"
      ],
      "execution_count": 0,
      "outputs": [
        {
          "output_type": "execute_result",
          "data": {
            "text/html": [
              "<div>\n",
              "<style scoped>\n",
              "    .dataframe tbody tr th:only-of-type {\n",
              "        vertical-align: middle;\n",
              "    }\n",
              "\n",
              "    .dataframe tbody tr th {\n",
              "        vertical-align: top;\n",
              "    }\n",
              "\n",
              "    .dataframe thead th {\n",
              "        text-align: right;\n",
              "    }\n",
              "</style>\n",
              "<table border=\"1\" class=\"dataframe\">\n",
              "  <thead>\n",
              "    <tr style=\"text-align: right;\">\n",
              "      <th></th>\n",
              "      <th>x001</th>\n",
              "      <th>x002</th>\n",
              "      <th>x003</th>\n",
              "      <th>x004</th>\n",
              "      <th>x005</th>\n",
              "      <th>x006</th>\n",
              "      <th>x007</th>\n",
              "      <th>x008</th>\n",
              "      <th>x009</th>\n",
              "      <th>x010</th>\n",
              "      <th>x011</th>\n",
              "      <th>x012</th>\n",
              "      <th>x013</th>\n",
              "      <th>x014</th>\n",
              "      <th>x015</th>\n",
              "      <th>x016</th>\n",
              "      <th>x017</th>\n",
              "      <th>x018</th>\n",
              "      <th>x019</th>\n",
              "      <th>x020</th>\n",
              "      <th>x021</th>\n",
              "      <th>x022</th>\n",
              "      <th>x023</th>\n",
              "      <th>x024</th>\n",
              "      <th>x025</th>\n",
              "      <th>x026</th>\n",
              "      <th>x027</th>\n",
              "      <th>x028</th>\n",
              "      <th>x029</th>\n",
              "      <th>x030</th>\n",
              "      <th>x031</th>\n",
              "      <th>x032</th>\n",
              "      <th>x033</th>\n",
              "      <th>x034</th>\n",
              "      <th>x035</th>\n",
              "      <th>x036</th>\n",
              "      <th>x037</th>\n",
              "      <th>x038</th>\n",
              "      <th>x039</th>\n",
              "      <th>x040</th>\n",
              "      <th>...</th>\n",
              "      <th>x267</th>\n",
              "      <th>x268</th>\n",
              "      <th>x269</th>\n",
              "      <th>x270</th>\n",
              "      <th>x271</th>\n",
              "      <th>x272</th>\n",
              "      <th>x273</th>\n",
              "      <th>x274</th>\n",
              "      <th>x275</th>\n",
              "      <th>x276</th>\n",
              "      <th>x277</th>\n",
              "      <th>x278</th>\n",
              "      <th>x279</th>\n",
              "      <th>x280</th>\n",
              "      <th>x281</th>\n",
              "      <th>x282</th>\n",
              "      <th>x283</th>\n",
              "      <th>x284</th>\n",
              "      <th>x285</th>\n",
              "      <th>x286</th>\n",
              "      <th>x287</th>\n",
              "      <th>x288</th>\n",
              "      <th>x289</th>\n",
              "      <th>x290</th>\n",
              "      <th>x291</th>\n",
              "      <th>x292</th>\n",
              "      <th>x293</th>\n",
              "      <th>x294</th>\n",
              "      <th>x295</th>\n",
              "      <th>x296</th>\n",
              "      <th>x297</th>\n",
              "      <th>x298</th>\n",
              "      <th>x299</th>\n",
              "      <th>x300</th>\n",
              "      <th>x301</th>\n",
              "      <th>x302</th>\n",
              "      <th>x303</th>\n",
              "      <th>x304</th>\n",
              "      <th>y</th>\n",
              "      <th>source</th>\n",
              "    </tr>\n",
              "  </thead>\n",
              "  <tbody>\n",
              "    <tr>\n",
              "      <th>0</th>\n",
              "      <td>1084094</td>\n",
              "      <td>426.0</td>\n",
              "      <td>39.0</td>\n",
              "      <td>128.0</td>\n",
              "      <td>426.0</td>\n",
              "      <td>0</td>\n",
              "      <td>0</td>\n",
              "      <td>0</td>\n",
              "      <td>0</td>\n",
              "      <td>0</td>\n",
              "      <td>2</td>\n",
              "      <td>4</td>\n",
              "      <td>4</td>\n",
              "      <td>9</td>\n",
              "      <td>19</td>\n",
              "      <td>5</td>\n",
              "      <td>14</td>\n",
              "      <td>8</td>\n",
              "      <td>5</td>\n",
              "      <td>6</td>\n",
              "      <td>2</td>\n",
              "      <td>3</td>\n",
              "      <td>2</td>\n",
              "      <td>1</td>\n",
              "      <td>1</td>\n",
              "      <td>1</td>\n",
              "      <td>1</td>\n",
              "      <td>6</td>\n",
              "      <td>1</td>\n",
              "      <td>5</td>\n",
              "      <td>0</td>\n",
              "      <td>0</td>\n",
              "      <td>0</td>\n",
              "      <td>0</td>\n",
              "      <td>0</td>\n",
              "      <td>0</td>\n",
              "      <td>0</td>\n",
              "      <td>0</td>\n",
              "      <td>0</td>\n",
              "      <td>0</td>\n",
              "      <td>...</td>\n",
              "      <td>NaN</td>\n",
              "      <td>NaN</td>\n",
              "      <td>0</td>\n",
              "      <td>0</td>\n",
              "      <td>0</td>\n",
              "      <td>0.1943</td>\n",
              "      <td>484289</td>\n",
              "      <td>0</td>\n",
              "      <td>NaN</td>\n",
              "      <td>0</td>\n",
              "      <td>0</td>\n",
              "      <td>0</td>\n",
              "      <td>484289</td>\n",
              "      <td>0</td>\n",
              "      <td>484289</td>\n",
              "      <td>1</td>\n",
              "      <td>1</td>\n",
              "      <td>1</td>\n",
              "      <td>0</td>\n",
              "      <td>0</td>\n",
              "      <td>1.0</td>\n",
              "      <td>NaN</td>\n",
              "      <td>NaN</td>\n",
              "      <td>NaN</td>\n",
              "      <td>0</td>\n",
              "      <td>346762</td>\n",
              "      <td>NaN</td>\n",
              "      <td>0</td>\n",
              "      <td>NaN</td>\n",
              "      <td>0</td>\n",
              "      <td>NaN</td>\n",
              "      <td>0</td>\n",
              "      <td>0</td>\n",
              "      <td>0</td>\n",
              "      <td>0</td>\n",
              "      <td>NaN</td>\n",
              "      <td>0</td>\n",
              "      <td>NaN</td>\n",
              "      <td>807</td>\n",
              "      <td>train</td>\n",
              "    </tr>\n",
              "    <tr>\n",
              "      <th>1</th>\n",
              "      <td>1287777</td>\n",
              "      <td>160.0</td>\n",
              "      <td>2.0</td>\n",
              "      <td>64.0</td>\n",
              "      <td>160.0</td>\n",
              "      <td>1</td>\n",
              "      <td>1</td>\n",
              "      <td>2</td>\n",
              "      <td>0</td>\n",
              "      <td>1</td>\n",
              "      <td>3</td>\n",
              "      <td>3</td>\n",
              "      <td>7</td>\n",
              "      <td>5</td>\n",
              "      <td>21</td>\n",
              "      <td>5</td>\n",
              "      <td>16</td>\n",
              "      <td>5</td>\n",
              "      <td>3</td>\n",
              "      <td>9</td>\n",
              "      <td>2</td>\n",
              "      <td>3</td>\n",
              "      <td>1</td>\n",
              "      <td>9</td>\n",
              "      <td>1</td>\n",
              "      <td>1</td>\n",
              "      <td>1</td>\n",
              "      <td>3</td>\n",
              "      <td>9</td>\n",
              "      <td>6</td>\n",
              "      <td>0</td>\n",
              "      <td>0</td>\n",
              "      <td>0</td>\n",
              "      <td>0</td>\n",
              "      <td>0</td>\n",
              "      <td>0</td>\n",
              "      <td>0</td>\n",
              "      <td>0</td>\n",
              "      <td>0</td>\n",
              "      <td>0</td>\n",
              "      <td>...</td>\n",
              "      <td>5.5</td>\n",
              "      <td>0.8417</td>\n",
              "      <td>1</td>\n",
              "      <td>1</td>\n",
              "      <td>1</td>\n",
              "      <td>0.2356</td>\n",
              "      <td>125307</td>\n",
              "      <td>0</td>\n",
              "      <td>NaN</td>\n",
              "      <td>0</td>\n",
              "      <td>0</td>\n",
              "      <td>0</td>\n",
              "      <td>125307</td>\n",
              "      <td>0</td>\n",
              "      <td>125307</td>\n",
              "      <td>1</td>\n",
              "      <td>1</td>\n",
              "      <td>1</td>\n",
              "      <td>2</td>\n",
              "      <td>0</td>\n",
              "      <td>1.0</td>\n",
              "      <td>9.0</td>\n",
              "      <td>2.0</td>\n",
              "      <td>5.5</td>\n",
              "      <td>17318</td>\n",
              "      <td>124634</td>\n",
              "      <td>0.8417</td>\n",
              "      <td>0</td>\n",
              "      <td>NaN</td>\n",
              "      <td>17318</td>\n",
              "      <td>0.8417</td>\n",
              "      <td>1</td>\n",
              "      <td>1</td>\n",
              "      <td>1</td>\n",
              "      <td>0</td>\n",
              "      <td>NaN</td>\n",
              "      <td>0</td>\n",
              "      <td>NaN</td>\n",
              "      <td>819</td>\n",
              "      <td>train</td>\n",
              "    </tr>\n",
              "    <tr>\n",
              "      <th>2</th>\n",
              "      <td>1483016</td>\n",
              "      <td>163.0</td>\n",
              "      <td>16.0</td>\n",
              "      <td>104.0</td>\n",
              "      <td>239.0</td>\n",
              "      <td>0</td>\n",
              "      <td>0</td>\n",
              "      <td>0</td>\n",
              "      <td>1</td>\n",
              "      <td>0</td>\n",
              "      <td>1</td>\n",
              "      <td>0</td>\n",
              "      <td>0</td>\n",
              "      <td>6</td>\n",
              "      <td>8</td>\n",
              "      <td>3</td>\n",
              "      <td>5</td>\n",
              "      <td>4</td>\n",
              "      <td>2</td>\n",
              "      <td>7</td>\n",
              "      <td>3</td>\n",
              "      <td>3</td>\n",
              "      <td>2</td>\n",
              "      <td>0</td>\n",
              "      <td>0</td>\n",
              "      <td>0</td>\n",
              "      <td>1</td>\n",
              "      <td>0</td>\n",
              "      <td>0</td>\n",
              "      <td>4</td>\n",
              "      <td>1</td>\n",
              "      <td>0</td>\n",
              "      <td>0</td>\n",
              "      <td>0</td>\n",
              "      <td>1</td>\n",
              "      <td>1</td>\n",
              "      <td>0</td>\n",
              "      <td>0</td>\n",
              "      <td>0</td>\n",
              "      <td>1</td>\n",
              "      <td>...</td>\n",
              "      <td>NaN</td>\n",
              "      <td>NaN</td>\n",
              "      <td>0</td>\n",
              "      <td>0</td>\n",
              "      <td>0</td>\n",
              "      <td>0.0308</td>\n",
              "      <td>706</td>\n",
              "      <td>0</td>\n",
              "      <td>NaN</td>\n",
              "      <td>0</td>\n",
              "      <td>0</td>\n",
              "      <td>0</td>\n",
              "      <td>706</td>\n",
              "      <td>0</td>\n",
              "      <td>706</td>\n",
              "      <td>1</td>\n",
              "      <td>1</td>\n",
              "      <td>1</td>\n",
              "      <td>0</td>\n",
              "      <td>0</td>\n",
              "      <td>NaN</td>\n",
              "      <td>NaN</td>\n",
              "      <td>NaN</td>\n",
              "      <td>NaN</td>\n",
              "      <td>0</td>\n",
              "      <td>0</td>\n",
              "      <td>NaN</td>\n",
              "      <td>0</td>\n",
              "      <td>NaN</td>\n",
              "      <td>0</td>\n",
              "      <td>NaN</td>\n",
              "      <td>0</td>\n",
              "      <td>0</td>\n",
              "      <td>0</td>\n",
              "      <td>0</td>\n",
              "      <td>NaN</td>\n",
              "      <td>0</td>\n",
              "      <td>NaN</td>\n",
              "      <td>803</td>\n",
              "      <td>train</td>\n",
              "    </tr>\n",
              "    <tr>\n",
              "      <th>3</th>\n",
              "      <td>959054</td>\n",
              "      <td>NaN</td>\n",
              "      <td>NaN</td>\n",
              "      <td>NaN</td>\n",
              "      <td>102.0</td>\n",
              "      <td>0</td>\n",
              "      <td>0</td>\n",
              "      <td>0</td>\n",
              "      <td>0</td>\n",
              "      <td>0</td>\n",
              "      <td>0</td>\n",
              "      <td>2</td>\n",
              "      <td>2</td>\n",
              "      <td>0</td>\n",
              "      <td>4</td>\n",
              "      <td>0</td>\n",
              "      <td>4</td>\n",
              "      <td>2</td>\n",
              "      <td>0</td>\n",
              "      <td>0</td>\n",
              "      <td>0</td>\n",
              "      <td>0</td>\n",
              "      <td>0</td>\n",
              "      <td>3</td>\n",
              "      <td>0</td>\n",
              "      <td>0</td>\n",
              "      <td>0</td>\n",
              "      <td>0</td>\n",
              "      <td>0</td>\n",
              "      <td>0</td>\n",
              "      <td>7</td>\n",
              "      <td>0</td>\n",
              "      <td>0</td>\n",
              "      <td>1</td>\n",
              "      <td>4</td>\n",
              "      <td>6</td>\n",
              "      <td>0</td>\n",
              "      <td>0</td>\n",
              "      <td>1</td>\n",
              "      <td>3</td>\n",
              "      <td>...</td>\n",
              "      <td>NaN</td>\n",
              "      <td>NaN</td>\n",
              "      <td>0</td>\n",
              "      <td>0</td>\n",
              "      <td>0</td>\n",
              "      <td>0.3025</td>\n",
              "      <td>619</td>\n",
              "      <td>619</td>\n",
              "      <td>0.8123</td>\n",
              "      <td>0</td>\n",
              "      <td>0</td>\n",
              "      <td>0</td>\n",
              "      <td>0</td>\n",
              "      <td>0</td>\n",
              "      <td>0</td>\n",
              "      <td>1</td>\n",
              "      <td>1</td>\n",
              "      <td>1</td>\n",
              "      <td>0</td>\n",
              "      <td>0</td>\n",
              "      <td>9.0</td>\n",
              "      <td>NaN</td>\n",
              "      <td>NaN</td>\n",
              "      <td>NaN</td>\n",
              "      <td>0</td>\n",
              "      <td>0</td>\n",
              "      <td>NaN</td>\n",
              "      <td>0</td>\n",
              "      <td>NaN</td>\n",
              "      <td>0</td>\n",
              "      <td>NaN</td>\n",
              "      <td>1</td>\n",
              "      <td>1</td>\n",
              "      <td>1</td>\n",
              "      <td>0</td>\n",
              "      <td>NaN</td>\n",
              "      <td>0</td>\n",
              "      <td>NaN</td>\n",
              "      <td>530</td>\n",
              "      <td>train</td>\n",
              "    </tr>\n",
              "    <tr>\n",
              "      <th>4</th>\n",
              "      <td>1342113</td>\n",
              "      <td>3.0</td>\n",
              "      <td>2.0</td>\n",
              "      <td>2.0</td>\n",
              "      <td>62.0</td>\n",
              "      <td>0</td>\n",
              "      <td>2</td>\n",
              "      <td>2</td>\n",
              "      <td>0</td>\n",
              "      <td>0</td>\n",
              "      <td>1</td>\n",
              "      <td>2</td>\n",
              "      <td>0</td>\n",
              "      <td>0</td>\n",
              "      <td>5</td>\n",
              "      <td>2</td>\n",
              "      <td>3</td>\n",
              "      <td>2</td>\n",
              "      <td>2</td>\n",
              "      <td>2</td>\n",
              "      <td>1</td>\n",
              "      <td>1</td>\n",
              "      <td>1</td>\n",
              "      <td>3</td>\n",
              "      <td>0</td>\n",
              "      <td>1</td>\n",
              "      <td>1</td>\n",
              "      <td>0</td>\n",
              "      <td>3</td>\n",
              "      <td>2</td>\n",
              "      <td>3</td>\n",
              "      <td>0</td>\n",
              "      <td>1</td>\n",
              "      <td>1</td>\n",
              "      <td>1</td>\n",
              "      <td>3</td>\n",
              "      <td>0</td>\n",
              "      <td>1</td>\n",
              "      <td>1</td>\n",
              "      <td>1</td>\n",
              "      <td>...</td>\n",
              "      <td>2.0</td>\n",
              "      <td>1.0180</td>\n",
              "      <td>1</td>\n",
              "      <td>1</td>\n",
              "      <td>1</td>\n",
              "      <td>0.8402</td>\n",
              "      <td>38837</td>\n",
              "      <td>21424</td>\n",
              "      <td>0.7357</td>\n",
              "      <td>1</td>\n",
              "      <td>1</td>\n",
              "      <td>1</td>\n",
              "      <td>17839</td>\n",
              "      <td>426</td>\n",
              "      <td>17413</td>\n",
              "      <td>1</td>\n",
              "      <td>1</td>\n",
              "      <td>1</td>\n",
              "      <td>1</td>\n",
              "      <td>0</td>\n",
              "      <td>9.0</td>\n",
              "      <td>2.0</td>\n",
              "      <td>2.0</td>\n",
              "      <td>2.0</td>\n",
              "      <td>17413</td>\n",
              "      <td>17413</td>\n",
              "      <td>1.0180</td>\n",
              "      <td>0</td>\n",
              "      <td>NaN</td>\n",
              "      <td>17413</td>\n",
              "      <td>1.0180</td>\n",
              "      <td>1</td>\n",
              "      <td>1</td>\n",
              "      <td>1</td>\n",
              "      <td>0</td>\n",
              "      <td>NaN</td>\n",
              "      <td>0</td>\n",
              "      <td>NaN</td>\n",
              "      <td>485</td>\n",
              "      <td>train</td>\n",
              "    </tr>\n",
              "  </tbody>\n",
              "</table>\n",
              "<p>5 rows × 306 columns</p>\n",
              "</div>"
            ],
            "text/plain": [
              "      x001   x002  x003   x004   x005  ...  x302  x303  x304    y  source\n",
              "0  1084094  426.0  39.0  128.0  426.0  ...   NaN     0   NaN  807   train\n",
              "1  1287777  160.0   2.0   64.0  160.0  ...   NaN     0   NaN  819   train\n",
              "2  1483016  163.0  16.0  104.0  239.0  ...   NaN     0   NaN  803   train\n",
              "3   959054    NaN   NaN    NaN  102.0  ...   NaN     0   NaN  530   train\n",
              "4  1342113    3.0   2.0    2.0   62.0  ...   NaN     0   NaN  485   train\n",
              "\n",
              "[5 rows x 306 columns]"
            ]
          },
          "metadata": {
            "tags": []
          },
          "execution_count": 6
        }
      ]
    },
    {
      "cell_type": "code",
      "metadata": {
        "id": "sHPMbkGZ_3AN",
        "colab_type": "code",
        "outputId": "6376b407-55b3-4ac2-a8b2-19c1cea8e26d",
        "colab": {
          "base_uri": "https://localhost:8080/",
          "height": 34
        }
      },
      "source": [
        "df.shape"
      ],
      "execution_count": 0,
      "outputs": [
        {
          "output_type": "execute_result",
          "data": {
            "text/plain": [
              "(100000, 306)"
            ]
          },
          "metadata": {
            "tags": []
          },
          "execution_count": 7
        }
      ]
    },
    {
      "cell_type": "code",
      "metadata": {
        "id": "vfjGS-KM_6UW",
        "colab_type": "code",
        "colab": {}
      },
      "source": [
        "df.drop_duplicates(inplace=True)"
      ],
      "execution_count": 0,
      "outputs": []
    },
    {
      "cell_type": "code",
      "metadata": {
        "id": "LDKlL_FUMqRx",
        "colab_type": "code",
        "outputId": "58b20885-ca89-4276-8fee-9b707e954982",
        "colab": {
          "base_uri": "https://localhost:8080/",
          "height": 1000
        }
      },
      "source": [
        "df.isna().sum()"
      ],
      "execution_count": 0,
      "outputs": [
        {
          "output_type": "execute_result",
          "data": {
            "text/plain": [
              "x001          0\n",
              "x002      21432\n",
              "x003      21432\n",
              "x004      21424\n",
              "x005       6110\n",
              "x006          0\n",
              "x007          0\n",
              "x008          0\n",
              "x009          0\n",
              "x010          0\n",
              "x011          0\n",
              "x012          0\n",
              "x013          0\n",
              "x014          0\n",
              "x015          0\n",
              "x016          0\n",
              "x017          0\n",
              "x018          0\n",
              "x019          0\n",
              "x020          0\n",
              "x021          0\n",
              "x022          0\n",
              "x023          0\n",
              "x024          0\n",
              "x025          0\n",
              "x026          0\n",
              "x027          0\n",
              "x028          0\n",
              "x029          0\n",
              "x030          0\n",
              "          ...  \n",
              "x277          0\n",
              "x278          0\n",
              "x279          0\n",
              "x280          0\n",
              "x281          0\n",
              "x282          0\n",
              "x283          0\n",
              "x284          0\n",
              "x285          0\n",
              "x286          0\n",
              "x287      24821\n",
              "x288      49756\n",
              "x289      49756\n",
              "x290      49756\n",
              "x291          0\n",
              "x292          0\n",
              "x293      51133\n",
              "x294          0\n",
              "x295      86533\n",
              "x296          0\n",
              "x297      58112\n",
              "x298          0\n",
              "x299          0\n",
              "x300          0\n",
              "x301          0\n",
              "x302      73069\n",
              "x303          0\n",
              "x304      81875\n",
              "y             0\n",
              "source        0\n",
              "Length: 306, dtype: int64"
            ]
          },
          "metadata": {
            "tags": []
          },
          "execution_count": 9
        }
      ]
    },
    {
      "cell_type": "code",
      "metadata": {
        "id": "OwSwSuv-ACW7",
        "colab_type": "code",
        "outputId": "7e1d3237-26ac-40ac-9d0e-853bd2e47c32",
        "colab": {
          "base_uri": "https://localhost:8080/",
          "height": 340
        }
      },
      "source": [
        "for i in range(306) :\n",
        "  if df.iloc[:,i].isna().sum() > 50000:\n",
        "    print(i+1)\n",
        "\n",
        "    "
      ],
      "execution_count": 0,
      "outputs": [
        {
          "output_type": "stream",
          "text": [
            "98\n",
            "155\n",
            "162\n",
            "242\n",
            "253\n",
            "255\n",
            "256\n",
            "257\n",
            "259\n",
            "265\n",
            "266\n",
            "267\n",
            "268\n",
            "275\n",
            "293\n",
            "295\n",
            "297\n",
            "302\n",
            "304\n"
          ],
          "name": "stdout"
        }
      ]
    },
    {
      "cell_type": "code",
      "metadata": {
        "id": "ll-9ymOJM5Iz",
        "colab_type": "code",
        "colab": {}
      },
      "source": [
        "df.drop(columns=['x001','x098','x155','x162','x242','x253','x255','x256','x257','x259','x265','x266','x267','x268','x275','x293','x295','x297','x302','x304'],inplace=True)"
      ],
      "execution_count": 0,
      "outputs": []
    },
    {
      "cell_type": "code",
      "metadata": {
        "id": "5bPBHCw3OEUg",
        "colab_type": "code",
        "outputId": "2996f8e7-57b3-4c32-8d45-689e2ea8c42b",
        "colab": {
          "base_uri": "https://localhost:8080/",
          "height": 391
        }
      },
      "source": [
        "#for i in range(286) :\n",
        "#  print( df.iloc[:,i].isna().sum() )\n",
        "for i in df.columns:\n",
        "  if df.loc[:,i].isna().sum() > 0:\n",
        "    print(i)\n",
        "     "
      ],
      "execution_count": 0,
      "outputs": [
        {
          "output_type": "stream",
          "text": [
            "x002\n",
            "x003\n",
            "x004\n",
            "x005\n",
            "x041\n",
            "x044\n",
            "x045\n",
            "x057\n",
            "x058\n",
            "x148\n",
            "x222\n",
            "x223\n",
            "x234\n",
            "x235\n",
            "x237\n",
            "x238\n",
            "x239\n",
            "x272\n",
            "x287\n",
            "x288\n",
            "x289\n",
            "x290\n"
          ],
          "name": "stdout"
        }
      ]
    },
    {
      "cell_type": "code",
      "metadata": {
        "id": "lfldfmtSO19o",
        "colab_type": "code",
        "colab": {}
      },
      "source": [
        "for i in df.columns:\n",
        "  if i not in [ 'source'] :\n",
        "    df[i].fillna(df[i].median(),inplace=True)"
      ],
      "execution_count": 0,
      "outputs": []
    },
    {
      "cell_type": "code",
      "metadata": {
        "id": "nK4cQehRTwd_",
        "colab_type": "code",
        "colab": {}
      },
      "source": [
        "import numpy as np\n",
        "import pandas as pd\n",
        "from sklearn.model_selection import train_test_split    \n",
        "from sklearn.metrics import accuracy_score,classification_report\n",
        "import matplotlib.pyplot as plt"
      ],
      "execution_count": 0,
      "outputs": []
    },
    {
      "cell_type": "code",
      "metadata": {
        "id": "hvceNhCUUco3",
        "colab_type": "code",
        "colab": {}
      },
      "source": [
        "train_final = df[df.source==\"train\"]\n",
        "test_final = df[df.source==\"test\"]"
      ],
      "execution_count": 0,
      "outputs": []
    },
    {
      "cell_type": "code",
      "metadata": {
        "id": "qsfcsB2RVROj",
        "colab_type": "code",
        "colab": {}
      },
      "source": [
        "x_train = train_final.drop(['y','source'],axis=1)\n",
        "y_train = train_final['y']\n"
      ],
      "execution_count": 0,
      "outputs": []
    },
    {
      "cell_type": "code",
      "metadata": {
        "id": "xhNms4JmV3Ha",
        "colab_type": "code",
        "colab": {}
      },
      "source": [
        "x_test = test_final.drop(['y','source'],axis=1)\n",
        "y_test = test_final['y']"
      ],
      "execution_count": 0,
      "outputs": []
    },
    {
      "cell_type": "code",
      "metadata": {
        "id": "yDuI5drmVoNj",
        "colab_type": "code",
        "outputId": "a58d2b95-ccf1-4ce3-97c2-a29e007f997e",
        "colab": {
          "base_uri": "https://localhost:8080/",
          "height": 34
        }
      },
      "source": [
        "print(x_train.shape,y_train.shape,x_test.shape,y_test.shape)\n"
      ],
      "execution_count": 0,
      "outputs": [
        {
          "output_type": "stream",
          "text": [
            "(80000, 284) (80000,) (20000, 284) (20000,)\n"
          ],
          "name": "stdout"
        }
      ]
    },
    {
      "cell_type": "code",
      "metadata": {
        "id": "6Mvcu3UIWohk",
        "colab_type": "code",
        "colab": {}
      },
      "source": [
        "def mape_find(y_true,y_predict):\n",
        "    y_true, y_predict = np.array(y_true) , np.array(y_predict)\n",
        "    return np.mean(np.abs((y_true - y_predict)/y_true))*100\n",
        "\n"
      ],
      "execution_count": 0,
      "outputs": []
    },
    {
      "cell_type": "code",
      "metadata": {
        "id": "-Dx1558hXP9I",
        "colab_type": "code",
        "outputId": "29888fe7-1eac-4ae0-80a3-14b975e59434",
        "colab": {
          "base_uri": "https://localhost:8080/",
          "height": 85
        }
      },
      "source": [
        "from sklearn.ensemble import  RandomForestRegressor\n",
        "from sklearn import metrics\n",
        "\n",
        "forest = RandomForestRegressor(n_jobs=-1,n_estimators=20, \n",
        "                                       min_samples_leaf=25, \n",
        "                                       max_features=0.3).fit(x_train, y_train)\n",
        "\n",
        "forest_train_predict = forest.predict(x_train)\n",
        "forest_test_predict = forest.predict(x_test)\n",
        "print(\"MAPE value of rf train:\",mape_find(y_train,forest_train_predict))\n",
        "print(\"MAPE value of rf test:\",mape_find(y_test,forest_test_predict))\n",
        "print(\"RMSE value of rf train:\",np.sqrt(metrics.mean_squared_error(y_train,forest_train_predict)))\n",
        "print(\"RMSE value of rf test:\",np.sqrt(metrics.mean_squared_error(y_test,forest_test_predict)))\n",
        "\n"
      ],
      "execution_count": 0,
      "outputs": [
        {
          "output_type": "stream",
          "text": [
            "MAPE value of rf train: 3.3775904212201584\n",
            "MAPE value of rf test: 3.747982915393442\n",
            "RMSE value of rf train: 27.470532816432996\n",
            "RMSE value of rf test: 30.543371249375657\n"
          ],
          "name": "stdout"
        }
      ]
    },
    {
      "cell_type": "code",
      "metadata": {
        "id": "8sheQK_1QUyd",
        "colab_type": "code",
        "outputId": "f467aa4f-a72d-48cf-baf1-87554d6dee3e",
        "colab": {
          "base_uri": "https://localhost:8080/",
          "height": 85
        }
      },
      "source": [
        "\n",
        "#RandomizedSearchCV\n",
        "from sklearn.model_selection import RandomizedSearchCV\n",
        "from pprint import pprint\n",
        "\n",
        "# Number of trees in random forest\n",
        "n_estimators = [int(x) for x in np.linspace(start = 20, stop = 200, num = 5)]\n",
        "# Number of features to consider at every split\n",
        "max_features = ['auto', 'sqrt']\n",
        "# Maximum number of levels in tree\n",
        "max_depth = [int(x) for x in np.linspace(1, 45, num = 3)]\n",
        "# Minimum number of samples required to split a node\n",
        "min_samples_split = [5, 10]\n",
        "\n",
        "# Create the random grid\n",
        "random_grid = {'n_estimators': n_estimators,\n",
        "               'max_features': max_features,\n",
        "               'max_depth': max_depth,\n",
        "               'min_samples_split': min_samples_split}\n",
        "\n",
        "pprint(random_grid)"
      ],
      "execution_count": 0,
      "outputs": [
        {
          "output_type": "stream",
          "text": [
            "{'max_depth': [1, 23, 45],\n",
            " 'max_features': ['auto', 'sqrt'],\n",
            " 'min_samples_split': [5, 10],\n",
            " 'n_estimators': [20, 65, 110, 155, 200]}\n"
          ],
          "name": "stdout"
        }
      ]
    },
    {
      "cell_type": "code",
      "metadata": {
        "id": "TK251coNRpDo",
        "colab_type": "code",
        "outputId": "3511f1a8-f29f-4e07-dbdc-79423e63d760",
        "colab": {
          "base_uri": "https://localhost:8080/",
          "height": 547
        }
      },
      "source": [
        "rf_random = RandomizedSearchCV(estimator = forest, param_distributions = random_grid, n_iter = 10, cv = 10, verbose=2, random_state=99, n_jobs = -1, scoring='neg_mean_squared_error')\n",
        "# Fit the random search model\n",
        "rf_random.fit(x_train, y_train)"
      ],
      "execution_count": 0,
      "outputs": [
        {
          "output_type": "stream",
          "text": [
            "Fitting 10 folds for each of 10 candidates, totalling 100 fits\n"
          ],
          "name": "stdout"
        },
        {
          "output_type": "stream",
          "text": [
            "[Parallel(n_jobs=-1)]: Using backend LokyBackend with 4 concurrent workers.\n",
            "/usr/local/lib/python3.6/dist-packages/joblib/externals/loky/process_executor.py:706: UserWarning: A worker stopped while some jobs were given to the executor. This can be caused by a too short worker timeout or by a memory leak.\n",
            "  \"timeout or by a memory leak.\", UserWarning\n",
            "[Parallel(n_jobs=-1)]: Done  33 tasks      | elapsed: 19.4min\n",
            "[Parallel(n_jobs=-1)]: Done 100 out of 100 | elapsed: 68.9min finished\n"
          ],
          "name": "stderr"
        },
        {
          "output_type": "execute_result",
          "data": {
            "text/plain": [
              "RandomizedSearchCV(cv=10, error_score='raise-deprecating',\n",
              "                   estimator=RandomForestRegressor(bootstrap=True,\n",
              "                                                   criterion='mse',\n",
              "                                                   max_depth=None,\n",
              "                                                   max_features=0.3,\n",
              "                                                   max_leaf_nodes=None,\n",
              "                                                   min_impurity_decrease=0.0,\n",
              "                                                   min_impurity_split=None,\n",
              "                                                   min_samples_leaf=25,\n",
              "                                                   min_samples_split=2,\n",
              "                                                   min_weight_fraction_leaf=0.0,\n",
              "                                                   n_estimators=20, n_jobs=-1,\n",
              "                                                   oob_score=False,\n",
              "                                                   random_state=None, verbose=0,\n",
              "                                                   warm_start=False),\n",
              "                   iid='warn', n_iter=10, n_jobs=-1,\n",
              "                   param_distributions={'max_depth': [1, 23, 45],\n",
              "                                        'max_features': ['auto', 'sqrt'],\n",
              "                                        'min_samples_split': [5, 10],\n",
              "                                        'n_estimators': [20, 65, 110, 155,\n",
              "                                                         200]},\n",
              "                   pre_dispatch='2*n_jobs', random_state=99, refit=True,\n",
              "                   return_train_score=False, scoring='neg_mean_squared_error',\n",
              "                   verbose=2)"
            ]
          },
          "metadata": {
            "tags": []
          },
          "execution_count": 24
        }
      ]
    },
    {
      "cell_type": "markdown",
      "metadata": {
        "id": "VO3dctdQjqzX",
        "colab_type": "text"
      },
      "source": [
        ""
      ]
    },
    {
      "cell_type": "code",
      "metadata": {
        "id": "6nOoMcV1R5Iw",
        "colab_type": "code",
        "colab": {}
      },
      "source": [
        "cvres2 = rf_random.cv_results_"
      ],
      "execution_count": 0,
      "outputs": []
    },
    {
      "cell_type": "code",
      "metadata": {
        "id": "a8R-R2W1SQkA",
        "colab_type": "code",
        "outputId": "1193f33f-88c6-4127-fab3-ef356da7db40",
        "colab": {
          "base_uri": "https://localhost:8080/",
          "height": 136
        }
      },
      "source": [
        "# best random model \n",
        "rf_random.best_estimator_"
      ],
      "execution_count": 0,
      "outputs": [
        {
          "output_type": "execute_result",
          "data": {
            "text/plain": [
              "RandomForestRegressor(bootstrap=True, criterion='mse', max_depth=23,\n",
              "                      max_features='auto', max_leaf_nodes=None,\n",
              "                      min_impurity_decrease=0.0, min_impurity_split=None,\n",
              "                      min_samples_leaf=25, min_samples_split=5,\n",
              "                      min_weight_fraction_leaf=0.0, n_estimators=200, n_jobs=-1,\n",
              "                      oob_score=False, random_state=None, verbose=0,\n",
              "                      warm_start=False)"
            ]
          },
          "metadata": {
            "tags": []
          },
          "execution_count": 26
        }
      ]
    },
    {
      "cell_type": "code",
      "metadata": {
        "id": "8lsQC7xDSXmy",
        "colab_type": "code",
        "outputId": "d7e9a0e3-d6d2-46f7-8824-3b81f482f7b2",
        "colab": {
          "base_uri": "https://localhost:8080/",
          "height": 85
        }
      },
      "source": [
        "# best combination of parameters of random search\n",
        "rf_random.best_params_"
      ],
      "execution_count": 0,
      "outputs": [
        {
          "output_type": "execute_result",
          "data": {
            "text/plain": [
              "{'max_depth': 23,\n",
              " 'max_features': 'auto',\n",
              " 'min_samples_split': 5,\n",
              " 'n_estimators': 200}"
            ]
          },
          "metadata": {
            "tags": []
          },
          "execution_count": 27
        }
      ]
    },
    {
      "cell_type": "code",
      "metadata": {
        "id": "DCxUuHlfSeoX",
        "colab_type": "code",
        "outputId": "5cbbf509-17ec-4e27-9120-f3074a41bfa4",
        "colab": {
          "base_uri": "https://localhost:8080/",
          "height": 34
        }
      },
      "source": [
        "#this is the RMSE\n",
        "random_best= rf_random.best_estimator_.predict(x_train)\n",
        "final_mse = metrics.mean_squared_error(y_train, random_best)\n",
        "final_rmse = np.sqrt(final_mse)\n",
        "print('The best model from the randomized search has a RMSE of', round(final_rmse, 2))"
      ],
      "execution_count": 0,
      "outputs": [
        {
          "output_type": "stream",
          "text": [
            "The best model from the randomized search has a RMSE of 27.22\n"
          ],
          "name": "stdout"
        }
      ]
    },
    {
      "cell_type": "code",
      "metadata": {
        "id": "NVgu-FC8SnBY",
        "colab_type": "code",
        "outputId": "0813b48d-0fe0-4acd-f585-15bed49f1a2a",
        "colab": {
          "base_uri": "https://localhost:8080/",
          "height": 1000
        }
      },
      "source": [
        "#Feature importance\n",
        "\n",
        "# extract the numerical values of feature importance from the grid search\n",
        "importances = rf_random.best_estimator_.feature_importances_\n",
        "\n",
        "#create a feature list from the original dataset (list of columns)\n",
        "# What are this numbers? Let's get back to the columns of the original dataset\n",
        "feature_list = list(df.columns)\n",
        "\n",
        "#create a list of tuples\n",
        "feature_importance= sorted(zip(importances, feature_list), reverse=True)\n",
        "\n",
        "#create two lists from the previous list of tuples\n",
        "df1 = pd.DataFrame(feature_importance, columns=['importance', 'feature'])\n",
        "importance= list(df1['importance'])\n",
        "feature= list(df1['feature'])\n",
        "\n",
        "#see df\n",
        "print(df1)"
      ],
      "execution_count": 0,
      "outputs": [
        {
          "output_type": "stream",
          "text": [
            "       importance feature\n",
            "0    5.453470e-01    x043\n",
            "1    9.719587e-02    x057\n",
            "2    8.711412e-02    x075\n",
            "3    7.140911e-02    x274\n",
            "4    2.605964e-02    x281\n",
            "5    1.576156e-02    x235\n",
            "6    1.114798e-02    x276\n",
            "7    1.113342e-02    x099\n",
            "8    1.039640e-02    x005\n",
            "9    8.446241e-03    x055\n",
            "10   7.030282e-03    x272\n",
            "11   6.510164e-03    x044\n",
            "12   5.553967e-03    x014\n",
            "13   5.084203e-03    x006\n",
            "14   4.309855e-03    x236\n",
            "15   4.254989e-03    x240\n",
            "16   4.099603e-03    x181\n",
            "17   3.995146e-03    x234\n",
            "18   3.860200e-03    x245\n",
            "19   3.441654e-03    x036\n",
            "20   3.262320e-03    x041\n",
            "21   3.244943e-03    x243\n",
            "22   2.535135e-03    x287\n",
            "23   2.489102e-03    x233\n",
            "24   2.478420e-03    x031\n",
            "25   2.332368e-03    x056\n",
            "26   2.111475e-03    x239\n",
            "27   2.059703e-03    x076\n",
            "28   1.985540e-03    x238\n",
            "29   1.837648e-03    x193\n",
            "..            ...     ...\n",
            "254  2.937839e-06    x136\n",
            "255  2.833730e-06    x164\n",
            "256  2.714479e-06    x152\n",
            "257  2.300899e-06    x140\n",
            "258  2.243641e-06    x184\n",
            "259  2.057793e-06    x126\n",
            "260  1.891467e-06    x110\n",
            "261  1.768885e-06    x037\n",
            "262  1.257216e-06    x167\n",
            "263  1.251705e-06    x109\n",
            "264  1.248345e-06    x102\n",
            "265  6.692146e-07    x142\n",
            "266  5.195611e-07    x061\n",
            "267  4.632195e-07    x154\n",
            "268  4.388740e-07    x252\n",
            "269  3.040512e-07    x070\n",
            "270  2.311868e-07    x166\n",
            "271  1.160232e-07    x078\n",
            "272  3.571132e-08    x069\n",
            "273  0.000000e+00    x096\n",
            "274  0.000000e+00    x095\n",
            "275  0.000000e+00    x094\n",
            "276  0.000000e+00    x093\n",
            "277  0.000000e+00    x090\n",
            "278  0.000000e+00    x084\n",
            "279  0.000000e+00    x083\n",
            "280  0.000000e+00    x077\n",
            "281  0.000000e+00    x068\n",
            "282  0.000000e+00    x067\n",
            "283  0.000000e+00    x060\n",
            "\n",
            "[284 rows x 2 columns]\n"
          ],
          "name": "stdout"
        }
      ]
    },
    {
      "cell_type": "code",
      "metadata": {
        "id": "bypNSoVWTsHT",
        "colab_type": "code",
        "outputId": "f9c46bc7-c550-428e-9958-0c1961bc43d3",
        "colab": {
          "base_uri": "https://localhost:8080/",
          "height": 637
        }
      },
      "source": [
        "# Set the style\n",
        "plt.style.use('bmh')\n",
        "# list of x locations for plotting\n",
        "x_values = list(range(len(feature_importance)))\n",
        "\n",
        "# Make a bar chart\n",
        "plt.figure(figsize=(15,10))\n",
        "plt.bar(x_values, importance, orientation = 'vertical')\n",
        "# Tick labels for x axis\n",
        "plt.xticks(x_values, feature, rotation='vertical')\n",
        "# Axis labels and title\n",
        "plt.ylabel('Importance'); plt.xlabel('Variable'); plt.title('Variable Importances');"
      ],
      "execution_count": 0,
      "outputs": [
        {
          "output_type": "display_data",
          "data": {
            "image/png": "[encoded data removed]",
            "text/plain": [
              "<Figure size 1080x720 with 1 Axes>"
            ]
          },
          "metadata": {
            "tags": []
          }
        }
      ]
    },
    {
      "cell_type": "code",
      "metadata": {
        "id": "iQBiEp5YC4Z4",
        "colab_type": "code",
        "outputId": "e17104bc-fae2-4f77-96db-cd5fddaa6cbf",
        "colab": {
          "base_uri": "https://localhost:8080/",
          "height": 34
        }
      },
      "source": [
        "x_train.shape"
      ],
      "execution_count": 0,
      "outputs": [
        {
          "output_type": "execute_result",
          "data": {
            "text/plain": [
              "(80000, 284)"
            ]
          },
          "metadata": {
            "tags": []
          },
          "execution_count": 58
        }
      ]
    },
    {
      "cell_type": "code",
      "metadata": {
        "id": "XnPF4foPY5Nu",
        "colab_type": "code",
        "outputId": "665d2188-9ed3-46ef-a317-2b1bc7daebf1",
        "colab": {
          "base_uri": "https://localhost:8080/",
          "height": 1000
        }
      },
      "source": [
        "from sklearn.model_selection import train_test_split\n",
        "from keras.datasets import mnist\n",
        "from keras.models import Sequential\n",
        "from keras.utils.np_utils import to_categorical\n",
        "from keras.models import Sequential\n",
        "from keras.layers import Activation, Dense\n",
        "from keras import optimizers\n",
        "\n",
        "model = Sequential()\n",
        "\n",
        "model.add(Dense(20, input_dim=284))\n",
        "model.add(Activation('elu'))\n",
        "model.add(Dense(100))\n",
        "model.add(Activation('elu'))\n",
        "model.add(Dense(50))\n",
        "model.add(Activation('elu'))\n",
        "model.add(Dense(30))\n",
        "model.add(Activation('elu'))\n",
        "\n",
        "model.add(Dense(1))\n",
        "\n",
        "model.compile(loss='mean_squared_error', optimizer='adam',metrics=['mse'])\n",
        "\n",
        "history = model.fit(x_train, y_train, validation_split = 0.3, epochs = 150, verbose = 1)"
      ],
      "execution_count": 0,
      "outputs": [
        {
          "output_type": "stream",
          "text": [
            "Train on 56000 samples, validate on 24000 samples\n",
            "Epoch 1/150\n",
            "56000/56000 [==============================] - 4s 72us/step - loss: 566092.8940 - mean_squared_error: 566092.8940 - val_loss: 2281303.5164 - val_mean_squared_error: 2281303.5164\n",
            "Epoch 2/150\n",
            "56000/56000 [==============================] - 4s 66us/step - loss: 168973.5255 - mean_squared_error: 168973.5255 - val_loss: 87225.8562 - val_mean_squared_error: 87225.8562\n",
            "Epoch 3/150\n",
            "56000/56000 [==============================] - 4s 65us/step - loss: 107618.6562 - mean_squared_error: 107618.6562 - val_loss: 80795.3949 - val_mean_squared_error: 80795.3949\n",
            "Epoch 4/150\n",
            "56000/56000 [==============================] - 4s 65us/step - loss: 77536.4990 - mean_squared_error: 77536.4990 - val_loss: 49101.5241 - val_mean_squared_error: 49101.5241\n",
            "Epoch 5/150\n",
            "56000/56000 [==============================] - 4s 65us/step - loss: 54427.9612 - mean_squared_error: 54427.9612 - val_loss: 34961.1671 - val_mean_squared_error: 34961.1671\n",
            "Epoch 6/150\n",
            "56000/56000 [==============================] - 4s 63us/step - loss: 53682.1125 - mean_squared_error: 53682.1125 - val_loss: 46730.1647 - val_mean_squared_error: 46730.1647\n",
            "Epoch 7/150\n",
            "56000/56000 [==============================] - 4s 64us/step - loss: 41687.3782 - mean_squared_error: 41687.3782 - val_loss: 29112.8950 - val_mean_squared_error: 29112.8950\n",
            "Epoch 8/150\n",
            "56000/56000 [==============================] - 4s 64us/step - loss: 22499.0250 - mean_squared_error: 22499.0250 - val_loss: 9380.1211 - val_mean_squared_error: 9380.1211\n",
            "Epoch 9/150\n",
            "56000/56000 [==============================] - 4s 64us/step - loss: 7823.7551 - mean_squared_error: 7823.7551 - val_loss: 6415.9000 - val_mean_squared_error: 6415.9000\n",
            "Epoch 10/150\n",
            "56000/56000 [==============================] - 4s 64us/step - loss: 5428.2044 - mean_squared_error: 5428.2044 - val_loss: 5324.8473 - val_mean_squared_error: 5324.8473\n",
            "Epoch 11/150\n",
            "56000/56000 [==============================] - 4s 65us/step - loss: 9720.8479 - mean_squared_error: 9720.8479 - val_loss: 4531.2117 - val_mean_squared_error: 4531.2117\n",
            "Epoch 12/150\n",
            "56000/56000 [==============================] - 4s 63us/step - loss: 4363.5912 - mean_squared_error: 4363.5912 - val_loss: 4000.0483 - val_mean_squared_error: 4000.0483\n",
            "Epoch 13/150\n",
            "56000/56000 [==============================] - 4s 64us/step - loss: 4016.1555 - mean_squared_error: 4016.1555 - val_loss: 3482.2102 - val_mean_squared_error: 3482.2102\n",
            "Epoch 14/150\n",
            "56000/56000 [==============================] - 4s 64us/step - loss: 4265.5278 - mean_squared_error: 4265.5278 - val_loss: 3853.8931 - val_mean_squared_error: 3853.8931\n",
            "Epoch 15/150\n",
            "56000/56000 [==============================] - 4s 63us/step - loss: 3479.5158 - mean_squared_error: 3479.5158 - val_loss: 2950.5060 - val_mean_squared_error: 2950.5060\n",
            "Epoch 16/150\n",
            "56000/56000 [==============================] - 4s 64us/step - loss: 2831.4453 - mean_squared_error: 2831.4453 - val_loss: 2452.1440 - val_mean_squared_error: 2452.1440\n",
            "Epoch 17/150\n",
            "56000/56000 [==============================] - 4s 64us/step - loss: 3375.9605 - mean_squared_error: 3375.9605 - val_loss: 2757.1092 - val_mean_squared_error: 2757.1092\n",
            "Epoch 18/150\n",
            "56000/56000 [==============================] - 4s 64us/step - loss: 4024.8237 - mean_squared_error: 4024.8237 - val_loss: 5767.0729 - val_mean_squared_error: 5767.0729\n",
            "Epoch 19/150\n",
            "56000/56000 [==============================] - 4s 64us/step - loss: 13005.4817 - mean_squared_error: 13005.4817 - val_loss: 3681.1834 - val_mean_squared_error: 3681.1834\n",
            "Epoch 20/150\n",
            "56000/56000 [==============================] - 4s 64us/step - loss: 2691.1299 - mean_squared_error: 2691.1299 - val_loss: 2899.1214 - val_mean_squared_error: 2899.1214\n",
            "Epoch 21/150\n",
            "56000/56000 [==============================] - 4s 64us/step - loss: 2359.8692 - mean_squared_error: 2359.8692 - val_loss: 2106.6756 - val_mean_squared_error: 2106.6756\n",
            "Epoch 22/150\n",
            "56000/56000 [==============================] - 4s 63us/step - loss: 2143.3943 - mean_squared_error: 2143.3943 - val_loss: 2126.1754 - val_mean_squared_error: 2126.1754\n",
            "Epoch 23/150\n",
            "56000/56000 [==============================] - 4s 64us/step - loss: 2126.2894 - mean_squared_error: 2126.2894 - val_loss: 2034.2410 - val_mean_squared_error: 2034.2410\n",
            "Epoch 24/150\n",
            "56000/56000 [==============================] - 4s 64us/step - loss: 1966.8710 - mean_squared_error: 1966.8710 - val_loss: 1843.8675 - val_mean_squared_error: 1843.8675\n",
            "Epoch 25/150\n",
            "56000/56000 [==============================] - 4s 63us/step - loss: 1930.1943 - mean_squared_error: 1930.1943 - val_loss: 1856.5677 - val_mean_squared_error: 1856.5677\n",
            "Epoch 26/150\n",
            "56000/56000 [==============================] - 4s 64us/step - loss: 1858.7941 - mean_squared_error: 1858.7941 - val_loss: 2049.1878 - val_mean_squared_error: 2049.1878\n",
            "Epoch 27/150\n",
            "56000/56000 [==============================] - 4s 64us/step - loss: 1827.0028 - mean_squared_error: 1827.0028 - val_loss: 1812.8849 - val_mean_squared_error: 1812.8849\n",
            "Epoch 28/150\n",
            "56000/56000 [==============================] - 4s 63us/step - loss: 1766.6160 - mean_squared_error: 1766.6160 - val_loss: 1699.8118 - val_mean_squared_error: 1699.8118\n",
            "Epoch 29/150\n",
            "56000/56000 [==============================] - 4s 64us/step - loss: 2364.5503 - mean_squared_error: 2364.5503 - val_loss: 2070.0871 - val_mean_squared_error: 2070.0871\n",
            "Epoch 30/150\n",
            "56000/56000 [==============================] - 4s 63us/step - loss: 1923.5950 - mean_squared_error: 1923.5950 - val_loss: 1852.0007 - val_mean_squared_error: 1852.0007\n",
            "Epoch 31/150\n",
            "56000/56000 [==============================] - 4s 64us/step - loss: 1837.8286 - mean_squared_error: 1837.8286 - val_loss: 1884.7342 - val_mean_squared_error: 1884.7342\n",
            "Epoch 32/150\n",
            "56000/56000 [==============================] - 4s 64us/step - loss: 1776.2154 - mean_squared_error: 1776.2154 - val_loss: 1698.9563 - val_mean_squared_error: 1698.9563\n",
            "Epoch 33/150\n",
            "56000/56000 [==============================] - 4s 64us/step - loss: 10725.2793 - mean_squared_error: 10725.2793 - val_loss: 2543.8026 - val_mean_squared_error: 2543.8026\n",
            "Epoch 34/150\n",
            "56000/56000 [==============================] - 4s 63us/step - loss: 2192.7611 - mean_squared_error: 2192.7611 - val_loss: 2071.6627 - val_mean_squared_error: 2071.6627\n",
            "Epoch 35/150\n",
            "56000/56000 [==============================] - 4s 64us/step - loss: 2034.2446 - mean_squared_error: 2034.2446 - val_loss: 1850.4382 - val_mean_squared_error: 1850.4382\n",
            "Epoch 36/150\n",
            "56000/56000 [==============================] - 4s 63us/step - loss: 1949.7764 - mean_squared_error: 1949.7764 - val_loss: 1983.9187 - val_mean_squared_error: 1983.9187\n",
            "Epoch 37/150\n",
            "56000/56000 [==============================] - 4s 64us/step - loss: 1975.6118 - mean_squared_error: 1975.6118 - val_loss: 1791.2164 - val_mean_squared_error: 1791.2164\n",
            "Epoch 38/150\n",
            "56000/56000 [==============================] - 4s 64us/step - loss: 1752.6734 - mean_squared_error: 1752.6734 - val_loss: 1682.1566 - val_mean_squared_error: 1682.1566\n",
            "Epoch 39/150\n",
            "56000/56000 [==============================] - 4s 63us/step - loss: 2028.7249 - mean_squared_error: 2028.7249 - val_loss: 1773.7796 - val_mean_squared_error: 1773.7796\n",
            "Epoch 40/150\n",
            "56000/56000 [==============================] - 4s 64us/step - loss: 1847.4274 - mean_squared_error: 1847.4274 - val_loss: 2134.2098 - val_mean_squared_error: 2134.2098\n",
            "Epoch 41/150\n",
            "56000/56000 [==============================] - 4s 63us/step - loss: 1734.8891 - mean_squared_error: 1734.8891 - val_loss: 1680.3632 - val_mean_squared_error: 1680.3632\n",
            "Epoch 42/150\n",
            "56000/56000 [==============================] - 4s 64us/step - loss: 1643.2589 - mean_squared_error: 1643.2589 - val_loss: 1620.5255 - val_mean_squared_error: 1620.5255\n",
            "Epoch 43/150\n",
            "56000/56000 [==============================] - 4s 71us/step - loss: 6717.6873 - mean_squared_error: 6717.6873 - val_loss: 1815.5762 - val_mean_squared_error: 1815.5762\n",
            "Epoch 44/150\n",
            "56000/56000 [==============================] - 4s 66us/step - loss: 2039.2784 - mean_squared_error: 2039.2784 - val_loss: 1896.1029 - val_mean_squared_error: 1896.1029\n",
            "Epoch 45/150\n",
            "56000/56000 [==============================] - 4s 64us/step - loss: 1740.5822 - mean_squared_error: 1740.5822 - val_loss: 1734.1791 - val_mean_squared_error: 1734.1791\n",
            "Epoch 46/150\n",
            "56000/56000 [==============================] - 4s 64us/step - loss: 1682.0981 - mean_squared_error: 1682.0981 - val_loss: 1677.1530 - val_mean_squared_error: 1677.1530\n",
            "Epoch 47/150\n",
            "56000/56000 [==============================] - 4s 64us/step - loss: 1627.6300 - mean_squared_error: 1627.6300 - val_loss: 80708302.6536 - val_mean_squared_error: 80708302.6536\n",
            "Epoch 48/150\n",
            "56000/56000 [==============================] - 4s 63us/step - loss: 1598.1284 - mean_squared_error: 1598.1284 - val_loss: 1549.9959 - val_mean_squared_error: 1549.9959\n",
            "Epoch 49/150\n",
            "56000/56000 [==============================] - 4s 64us/step - loss: 1553.2521 - mean_squared_error: 1553.2521 - val_loss: 1562.5952 - val_mean_squared_error: 1562.5952\n",
            "Epoch 50/150\n",
            "56000/56000 [==============================] - 4s 63us/step - loss: 2687.5233 - mean_squared_error: 2687.5233 - val_loss: 1618.8825 - val_mean_squared_error: 1618.8825\n",
            "Epoch 51/150\n",
            "56000/56000 [==============================] - 4s 65us/step - loss: 1558.9938 - mean_squared_error: 1558.9938 - val_loss: 1794.4629 - val_mean_squared_error: 1794.4629\n",
            "Epoch 52/150\n",
            "56000/56000 [==============================] - 4s 66us/step - loss: 1655.1362 - mean_squared_error: 1655.1362 - val_loss: 1671.4048 - val_mean_squared_error: 1671.4048\n",
            "Epoch 53/150\n",
            "56000/56000 [==============================] - 4s 69us/step - loss: 1617.0010 - mean_squared_error: 1617.0010 - val_loss: 1533.5969 - val_mean_squared_error: 1533.5969\n",
            "Epoch 54/150\n",
            "56000/56000 [==============================] - 4s 69us/step - loss: 1530.5243 - mean_squared_error: 1530.5243 - val_loss: 1786.8501 - val_mean_squared_error: 1786.8501\n",
            "Epoch 55/150\n",
            "56000/56000 [==============================] - 4s 65us/step - loss: 1517.6259 - mean_squared_error: 1517.6259 - val_loss: 1587.3950 - val_mean_squared_error: 1587.3950\n",
            "Epoch 56/150\n",
            "56000/56000 [==============================] - 4s 65us/step - loss: 1497.3002 - mean_squared_error: 1497.3002 - val_loss: 1623.7032 - val_mean_squared_error: 1623.7032\n",
            "Epoch 57/150\n",
            "56000/56000 [==============================] - 4s 63us/step - loss: 1577.8556 - mean_squared_error: 1577.8556 - val_loss: 1563.5363 - val_mean_squared_error: 1563.5363\n",
            "Epoch 58/150\n",
            "56000/56000 [==============================] - 4s 63us/step - loss: 1477.3601 - mean_squared_error: 1477.3601 - val_loss: 1474.5228 - val_mean_squared_error: 1474.5228\n",
            "Epoch 59/150\n",
            "56000/56000 [==============================] - 4s 64us/step - loss: 2464.5431 - mean_squared_error: 2464.5431 - val_loss: 2346.4989 - val_mean_squared_error: 2346.4989\n",
            "Epoch 60/150\n",
            "56000/56000 [==============================] - 4s 64us/step - loss: 1820.8425 - mean_squared_error: 1820.8425 - val_loss: 1639.8666 - val_mean_squared_error: 1639.8666\n",
            "Epoch 61/150\n",
            "56000/56000 [==============================] - 4s 64us/step - loss: 1492.7498 - mean_squared_error: 1492.7498 - val_loss: 1573.5466 - val_mean_squared_error: 1573.5466\n",
            "Epoch 62/150\n",
            "56000/56000 [==============================] - 4s 64us/step - loss: 1477.1619 - mean_squared_error: 1477.1619 - val_loss: 1680.9590 - val_mean_squared_error: 1680.9590\n",
            "Epoch 63/150\n",
            "56000/56000 [==============================] - 4s 65us/step - loss: 1496.4545 - mean_squared_error: 1496.4545 - val_loss: 1479.2837 - val_mean_squared_error: 1479.2837\n",
            "Epoch 64/150\n",
            "56000/56000 [==============================] - 4s 64us/step - loss: 1503.7551 - mean_squared_error: 1503.7551 - val_loss: 1448.4269 - val_mean_squared_error: 1448.4269\n",
            "Epoch 65/150\n",
            "56000/56000 [==============================] - 4s 64us/step - loss: 1468.7385 - mean_squared_error: 1468.7385 - val_loss: 1370.0502 - val_mean_squared_error: 1370.0502\n",
            "Epoch 66/150\n",
            "56000/56000 [==============================] - 4s 64us/step - loss: 1414.7073 - mean_squared_error: 1414.7073 - val_loss: 1404.7312 - val_mean_squared_error: 1404.7312\n",
            "Epoch 67/150\n",
            "56000/56000 [==============================] - 4s 64us/step - loss: 6002.3801 - mean_squared_error: 6002.3801 - val_loss: 1498.0804 - val_mean_squared_error: 1498.0804\n",
            "Epoch 68/150\n",
            "56000/56000 [==============================] - 4s 65us/step - loss: 1449.7831 - mean_squared_error: 1449.7831 - val_loss: 1435.7897 - val_mean_squared_error: 1435.7897\n",
            "Epoch 69/150\n",
            "56000/56000 [==============================] - 4s 65us/step - loss: 1403.2994 - mean_squared_error: 1403.2994 - val_loss: 1393.5144 - val_mean_squared_error: 1393.5144\n",
            "Epoch 70/150\n",
            "56000/56000 [==============================] - 4s 64us/step - loss: 1375.3274 - mean_squared_error: 1375.3274 - val_loss: 1422.6164 - val_mean_squared_error: 1422.6164\n",
            "Epoch 71/150\n",
            "56000/56000 [==============================] - 4s 63us/step - loss: 1358.1782 - mean_squared_error: 1358.1782 - val_loss: 1346.9525 - val_mean_squared_error: 1346.9525\n",
            "Epoch 72/150\n",
            "56000/56000 [==============================] - 4s 64us/step - loss: 1355.1973 - mean_squared_error: 1355.1973 - val_loss: 1504.8990 - val_mean_squared_error: 1504.8990\n",
            "Epoch 73/150\n",
            "56000/56000 [==============================] - 4s 63us/step - loss: 1351.1119 - mean_squared_error: 1351.1119 - val_loss: 1580.3213 - val_mean_squared_error: 1580.3213\n",
            "Epoch 74/150\n",
            "56000/56000 [==============================] - 4s 64us/step - loss: 1351.1000 - mean_squared_error: 1351.1000 - val_loss: 1408.9579 - val_mean_squared_error: 1408.9579\n",
            "Epoch 75/150\n",
            "56000/56000 [==============================] - 4s 64us/step - loss: 1385.3177 - mean_squared_error: 1385.3177 - val_loss: 3820.5846 - val_mean_squared_error: 3820.5846\n",
            "Epoch 76/150\n",
            "56000/56000 [==============================] - 4s 64us/step - loss: 1343.1913 - mean_squared_error: 1343.1913 - val_loss: 1415.2758 - val_mean_squared_error: 1415.2758\n",
            "Epoch 77/150\n",
            "56000/56000 [==============================] - 4s 64us/step - loss: 1346.6232 - mean_squared_error: 1346.6232 - val_loss: 1401.9219 - val_mean_squared_error: 1401.9219\n",
            "Epoch 78/150\n",
            "56000/56000 [==============================] - 4s 63us/step - loss: 1458.7087 - mean_squared_error: 1458.7087 - val_loss: 1429.3798 - val_mean_squared_error: 1429.3798\n",
            "Epoch 79/150\n",
            "56000/56000 [==============================] - 4s 63us/step - loss: 1440.1350 - mean_squared_error: 1440.1350 - val_loss: 1723.7239 - val_mean_squared_error: 1723.7239\n",
            "Epoch 80/150\n",
            "56000/56000 [==============================] - 4s 63us/step - loss: 11941.1134 - mean_squared_error: 11941.1134 - val_loss: 2008.5166 - val_mean_squared_error: 2008.5166\n",
            "Epoch 81/150\n",
            "56000/56000 [==============================] - 4s 64us/step - loss: 1751.4622 - mean_squared_error: 1751.4622 - val_loss: 1610.5948 - val_mean_squared_error: 1610.5948\n",
            "Epoch 82/150\n",
            "56000/56000 [==============================] - 4s 64us/step - loss: 1578.7898 - mean_squared_error: 1578.7898 - val_loss: 1590.4227 - val_mean_squared_error: 1590.4227\n",
            "Epoch 83/150\n",
            "56000/56000 [==============================] - 4s 63us/step - loss: 1791.3737 - mean_squared_error: 1791.3737 - val_loss: 1622.4639 - val_mean_squared_error: 1622.4639\n",
            "Epoch 84/150\n",
            "56000/56000 [==============================] - 4s 64us/step - loss: 1512.4919 - mean_squared_error: 1512.4919 - val_loss: 1455.8057 - val_mean_squared_error: 1455.8057\n",
            "Epoch 85/150\n",
            "56000/56000 [==============================] - 4s 63us/step - loss: 1447.2923 - mean_squared_error: 1447.2923 - val_loss: 1443.6729 - val_mean_squared_error: 1443.6729\n",
            "Epoch 86/150\n",
            "56000/56000 [==============================] - 4s 64us/step - loss: 1660.1284 - mean_squared_error: 1660.1284 - val_loss: 1693.3134 - val_mean_squared_error: 1693.3134\n",
            "Epoch 87/150\n",
            "56000/56000 [==============================] - 4s 63us/step - loss: 1515.9725 - mean_squared_error: 1515.9725 - val_loss: 1419.0777 - val_mean_squared_error: 1419.0777\n",
            "Epoch 88/150\n",
            "56000/56000 [==============================] - 4s 64us/step - loss: 1407.0642 - mean_squared_error: 1407.0642 - val_loss: 1396.4505 - val_mean_squared_error: 1396.4505\n",
            "Epoch 89/150\n",
            "56000/56000 [==============================] - 4s 64us/step - loss: 1863.4109 - mean_squared_error: 1863.4109 - val_loss: 1451.3455 - val_mean_squared_error: 1451.3455\n",
            "Epoch 90/150\n",
            "56000/56000 [==============================] - 4s 64us/step - loss: 1500164481.8214 - mean_squared_error: 1500164481.8214 - val_loss: 1931.4775 - val_mean_squared_error: 1931.4775\n",
            "Epoch 91/150\n",
            "56000/56000 [==============================] - 4s 64us/step - loss: 1687.7018 - mean_squared_error: 1687.7018 - val_loss: 1662.9297 - val_mean_squared_error: 1662.9297\n",
            "Epoch 92/150\n",
            "56000/56000 [==============================] - 4s 64us/step - loss: 1623.8686 - mean_squared_error: 1623.8686 - val_loss: 1635.3836 - val_mean_squared_error: 1635.3836\n",
            "Epoch 93/150\n",
            "56000/56000 [==============================] - 4s 64us/step - loss: 1522.6454 - mean_squared_error: 1522.6454 - val_loss: 1513.5102 - val_mean_squared_error: 1513.5102\n",
            "Epoch 94/150\n",
            "56000/56000 [==============================] - 4s 63us/step - loss: 1519.8239 - mean_squared_error: 1519.8239 - val_loss: 1643.1803 - val_mean_squared_error: 1643.1803\n",
            "Epoch 95/150\n",
            "56000/56000 [==============================] - 4s 64us/step - loss: 1597.9830 - mean_squared_error: 1597.9830 - val_loss: 1532.8791 - val_mean_squared_error: 1532.8791\n",
            "Epoch 96/150\n",
            "56000/56000 [==============================] - 4s 64us/step - loss: 1501.5091 - mean_squared_error: 1501.5091 - val_loss: 1508.4512 - val_mean_squared_error: 1508.4512\n",
            "Epoch 97/150\n",
            "56000/56000 [==============================] - 4s 64us/step - loss: 1697.9229 - mean_squared_error: 1697.9229 - val_loss: 1534.2232 - val_mean_squared_error: 1534.2232\n",
            "Epoch 98/150\n",
            "56000/56000 [==============================] - 4s 64us/step - loss: 1549.0862 - mean_squared_error: 1549.0862 - val_loss: 1562.2787 - val_mean_squared_error: 1562.2787\n",
            "Epoch 99/150\n",
            "56000/56000 [==============================] - 4s 64us/step - loss: 1511.2887 - mean_squared_error: 1511.2887 - val_loss: 1547.5280 - val_mean_squared_error: 1547.5280\n",
            "Epoch 100/150\n",
            "56000/56000 [==============================] - 4s 64us/step - loss: 1501.8409 - mean_squared_error: 1501.8409 - val_loss: 1676.5852 - val_mean_squared_error: 1676.5852\n",
            "Epoch 101/150\n",
            "56000/56000 [==============================] - 4s 64us/step - loss: 1495.1710 - mean_squared_error: 1495.1710 - val_loss: 1495.0102 - val_mean_squared_error: 1495.0102\n",
            "Epoch 102/150\n",
            "56000/56000 [==============================] - 4s 64us/step - loss: 1420.3602 - mean_squared_error: 1420.3602 - val_loss: 1413.4454 - val_mean_squared_error: 1413.4454\n",
            "Epoch 103/150\n",
            "56000/56000 [==============================] - 4s 64us/step - loss: 1426.8353 - mean_squared_error: 1426.8353 - val_loss: 1412.1907 - val_mean_squared_error: 1412.1907\n",
            "Epoch 104/150\n",
            "56000/56000 [==============================] - 4s 64us/step - loss: 1399.2737 - mean_squared_error: 1399.2737 - val_loss: 1535.0865 - val_mean_squared_error: 1535.0865\n",
            "Epoch 105/150\n",
            "56000/56000 [==============================] - 4s 63us/step - loss: 1416.7682 - mean_squared_error: 1416.7682 - val_loss: 1414.9110 - val_mean_squared_error: 1414.9110\n",
            "Epoch 106/150\n",
            "56000/56000 [==============================] - 4s 64us/step - loss: 1424.8478 - mean_squared_error: 1424.8478 - val_loss: 1761.4245 - val_mean_squared_error: 1761.4245\n",
            "Epoch 107/150\n",
            "56000/56000 [==============================] - 4s 64us/step - loss: 1429.7455 - mean_squared_error: 1429.7455 - val_loss: 1361.0802 - val_mean_squared_error: 1361.0802\n",
            "Epoch 108/150\n",
            "56000/56000 [==============================] - 4s 63us/step - loss: 1372.4375 - mean_squared_error: 1372.4375 - val_loss: 1396.1887 - val_mean_squared_error: 1396.1887\n",
            "Epoch 109/150\n",
            "56000/56000 [==============================] - 4s 63us/step - loss: 1350.6900 - mean_squared_error: 1350.6900 - val_loss: 1422.9240 - val_mean_squared_error: 1422.9240\n",
            "Epoch 110/150\n",
            "56000/56000 [==============================] - 4s 63us/step - loss: 1329.0348 - mean_squared_error: 1329.0348 - val_loss: 1362.8419 - val_mean_squared_error: 1362.8419\n",
            "Epoch 111/150\n",
            "56000/56000 [==============================] - 4s 64us/step - loss: 1314.6131 - mean_squared_error: 1314.6131 - val_loss: 1443.7185 - val_mean_squared_error: 1443.7185\n",
            "Epoch 112/150\n",
            "56000/56000 [==============================] - 4s 64us/step - loss: 1330.3793 - mean_squared_error: 1330.3793 - val_loss: 1422.3059 - val_mean_squared_error: 1422.3059\n",
            "Epoch 113/150\n",
            "56000/56000 [==============================] - 4s 64us/step - loss: 805507.7726 - mean_squared_error: 805507.7726 - val_loss: 1421.1618 - val_mean_squared_error: 1421.1618\n",
            "Epoch 114/150\n",
            "56000/56000 [==============================] - 4s 64us/step - loss: 1406.5323 - mean_squared_error: 1406.5323 - val_loss: 1448.4185 - val_mean_squared_error: 1448.4185\n",
            "Epoch 115/150\n",
            "56000/56000 [==============================] - 4s 64us/step - loss: 1359.1397 - mean_squared_error: 1359.1397 - val_loss: 1435.5188 - val_mean_squared_error: 1435.5188\n",
            "Epoch 116/150\n",
            "56000/56000 [==============================] - 4s 64us/step - loss: 1286.8415 - mean_squared_error: 1286.8415 - val_loss: 1291.7150 - val_mean_squared_error: 1291.7150\n",
            "Epoch 117/150\n",
            "56000/56000 [==============================] - 4s 63us/step - loss: 1309.3033 - mean_squared_error: 1309.3033 - val_loss: 1414.2950 - val_mean_squared_error: 1414.2950\n",
            "Epoch 118/150\n",
            "56000/56000 [==============================] - 4s 63us/step - loss: 1296.5443 - mean_squared_error: 1296.5443 - val_loss: 1271.3497 - val_mean_squared_error: 1271.3497\n",
            "Epoch 119/150\n",
            "56000/56000 [==============================] - 4s 64us/step - loss: 1279.3886 - mean_squared_error: 1279.3886 - val_loss: 1354.9869 - val_mean_squared_error: 1354.9869\n",
            "Epoch 120/150\n",
            "56000/56000 [==============================] - 4s 64us/step - loss: 1247.7461 - mean_squared_error: 1247.7461 - val_loss: 1267.5784 - val_mean_squared_error: 1267.5784\n",
            "Epoch 121/150\n",
            "56000/56000 [==============================] - 4s 64us/step - loss: 1255.2573 - mean_squared_error: 1255.2573 - val_loss: 1362.1793 - val_mean_squared_error: 1362.1793\n",
            "Epoch 122/150\n",
            "56000/56000 [==============================] - 4s 64us/step - loss: 1252.7954 - mean_squared_error: 1252.7954 - val_loss: 1443.1721 - val_mean_squared_error: 1443.1721\n",
            "Epoch 123/150\n",
            "56000/56000 [==============================] - 4s 64us/step - loss: 1250.7448 - mean_squared_error: 1250.7448 - val_loss: 1422.6927 - val_mean_squared_error: 1422.6927\n",
            "Epoch 124/150\n",
            "56000/56000 [==============================] - 4s 63us/step - loss: 1257.9143 - mean_squared_error: 1257.9143 - val_loss: 1305.6134 - val_mean_squared_error: 1305.6134\n",
            "Epoch 125/150\n",
            "56000/56000 [==============================] - 4s 63us/step - loss: 1245.6001 - mean_squared_error: 1245.6001 - val_loss: 1242.8877 - val_mean_squared_error: 1242.8877\n",
            "Epoch 126/150\n",
            "56000/56000 [==============================] - 4s 64us/step - loss: 1343.8875 - mean_squared_error: 1343.8875 - val_loss: 1244.3150 - val_mean_squared_error: 1244.3150\n",
            "Epoch 127/150\n",
            "56000/56000 [==============================] - 4s 64us/step - loss: 1291.2807 - mean_squared_error: 1291.2807 - val_loss: 1391.3861 - val_mean_squared_error: 1391.3861\n",
            "Epoch 128/150\n",
            "56000/56000 [==============================] - 4s 69us/step - loss: 1297.6035 - mean_squared_error: 1297.6035 - val_loss: 1320.8670 - val_mean_squared_error: 1320.8670\n",
            "Epoch 129/150\n",
            "56000/56000 [==============================] - 4s 68us/step - loss: 1282.6822 - mean_squared_error: 1282.6822 - val_loss: 1223.0689 - val_mean_squared_error: 1223.0689\n",
            "Epoch 130/150\n",
            "56000/56000 [==============================] - 4s 63us/step - loss: 1274.4866 - mean_squared_error: 1274.4866 - val_loss: 1271.1108 - val_mean_squared_error: 1271.1108\n",
            "Epoch 131/150\n",
            "56000/56000 [==============================] - 4s 63us/step - loss: 1313.1654 - mean_squared_error: 1313.1654 - val_loss: 21170.2017 - val_mean_squared_error: 21170.2017\n",
            "Epoch 132/150\n",
            "56000/56000 [==============================] - 4s 64us/step - loss: 1339.7325 - mean_squared_error: 1339.7325 - val_loss: 7035.2570 - val_mean_squared_error: 7035.2570\n",
            "Epoch 133/150\n",
            "56000/56000 [==============================] - 4s 64us/step - loss: 89432.7393 - mean_squared_error: 89432.7393 - val_loss: 1805.6958 - val_mean_squared_error: 1805.6958\n",
            "Epoch 134/150\n",
            "56000/56000 [==============================] - 4s 64us/step - loss: 1684.3646 - mean_squared_error: 1684.3646 - val_loss: 1662.2911 - val_mean_squared_error: 1662.2911\n",
            "Epoch 135/150\n",
            "56000/56000 [==============================] - 4s 63us/step - loss: 1602.1216 - mean_squared_error: 1602.1216 - val_loss: 1610.7480 - val_mean_squared_error: 1610.7480\n",
            "Epoch 136/150\n",
            "56000/56000 [==============================] - 4s 63us/step - loss: 1462.5083 - mean_squared_error: 1462.5083 - val_loss: 1503.3978 - val_mean_squared_error: 1503.3978\n",
            "Epoch 137/150\n",
            "56000/56000 [==============================] - 4s 63us/step - loss: 1454.0317 - mean_squared_error: 1454.0317 - val_loss: 1463.8408 - val_mean_squared_error: 1463.8408\n",
            "Epoch 138/150\n",
            "56000/56000 [==============================] - 4s 64us/step - loss: 1441.7651 - mean_squared_error: 1441.7651 - val_loss: 1534.1100 - val_mean_squared_error: 1534.1100\n",
            "Epoch 139/150\n",
            "56000/56000 [==============================] - 4s 67us/step - loss: 1388.1045 - mean_squared_error: 1388.1045 - val_loss: 1466.3707 - val_mean_squared_error: 1466.3707\n",
            "Epoch 140/150\n",
            "56000/56000 [==============================] - 4s 70us/step - loss: 1593.3058 - mean_squared_error: 1593.3058 - val_loss: 1486.0056 - val_mean_squared_error: 1486.0056\n",
            "Epoch 141/150\n",
            "56000/56000 [==============================] - 4s 69us/step - loss: 1703.8124 - mean_squared_error: 1703.8124 - val_loss: 1811.4375 - val_mean_squared_error: 1811.4375\n",
            "Epoch 142/150\n",
            "56000/56000 [==============================] - 4s 65us/step - loss: 1529.3650 - mean_squared_error: 1529.3650 - val_loss: 1498.2046 - val_mean_squared_error: 1498.2046\n",
            "Epoch 143/150\n",
            "56000/56000 [==============================] - 4s 63us/step - loss: 1439.4080 - mean_squared_error: 1439.4080 - val_loss: 1348.1364 - val_mean_squared_error: 1348.1364\n",
            "Epoch 144/150\n",
            "56000/56000 [==============================] - 4s 64us/step - loss: 1471.3994 - mean_squared_error: 1471.3994 - val_loss: 1483.3650 - val_mean_squared_error: 1483.3650\n",
            "Epoch 145/150\n",
            "56000/56000 [==============================] - 4s 63us/step - loss: 1729.9669 - mean_squared_error: 1729.9669 - val_loss: 1354.0195 - val_mean_squared_error: 1354.0195\n",
            "Epoch 146/150\n",
            "56000/56000 [==============================] - 4s 63us/step - loss: 1351.7405 - mean_squared_error: 1351.7405 - val_loss: 1375.2754 - val_mean_squared_error: 1375.2754\n",
            "Epoch 147/150\n",
            "56000/56000 [==============================] - 4s 63us/step - loss: 1299.7864 - mean_squared_error: 1299.7864 - val_loss: 1358.9390 - val_mean_squared_error: 1358.9390\n",
            "Epoch 148/150\n",
            "56000/56000 [==============================] - 4s 64us/step - loss: 1268.3207 - mean_squared_error: 1268.3207 - val_loss: 1271.2245 - val_mean_squared_error: 1271.2245\n",
            "Epoch 149/150\n",
            "56000/56000 [==============================] - 4s 64us/step - loss: 1252.9157 - mean_squared_error: 1252.9157 - val_loss: 1272.8306 - val_mean_squared_error: 1272.8306\n",
            "Epoch 150/150\n",
            "56000/56000 [==============================] - 4s 63us/step - loss: 1262.1194 - mean_squared_error: 1262.1194 - val_loss: 1248.1906 - val_mean_squared_error: 1248.1906\n"
          ],
          "name": "stdout"
        }
      ]
    },
    {
      "cell_type": "code",
      "metadata": {
        "id": "2PRLucbmewqg",
        "colab_type": "code",
        "outputId": "44644a7c-6bce-44a7-c4a7-09cfafea0cac",
        "colab": {
          "base_uri": "https://localhost:8080/",
          "height": 276
        }
      },
      "source": [
        "plt.plot(history.history['loss'])\n",
        "plt.plot(history.history['val_loss'])\n",
        "plt.legend(['training', 'validation'], loc = 'upper left')\n",
        "plt.show()"
      ],
      "execution_count": 0,
      "outputs": [
        {
          "output_type": "display_data",
          "data": {
            "image/png": "[encoded data removed]",
            "text/plain": [
              "<Figure size 432x288 with 1 Axes>"
            ]
          },
          "metadata": {
            "tags": []
          }
        }
      ]
    },
    {
      "cell_type": "code",
      "metadata": {
        "id": "wshRpZw6Csro",
        "colab_type": "code",
        "outputId": "df6ddb0e-c9ad-452a-a9d6-0fa29bc43769",
        "colab": {
          "base_uri": "https://localhost:8080/",
          "height": 459
        }
      },
      "source": [
        "model.summary()"
      ],
      "execution_count": 0,
      "outputs": [
        {
          "output_type": "stream",
          "text": [
            "Model: \"sequential_4\"\n",
            "_________________________________________________________________\n",
            "Layer (type)                 Output Shape              Param #   \n",
            "=================================================================\n",
            "dense_11 (Dense)             (None, 20)                5700      \n",
            "_________________________________________________________________\n",
            "activation_8 (Activation)    (None, 20)                0         \n",
            "_________________________________________________________________\n",
            "dense_12 (Dense)             (None, 100)               2100      \n",
            "_________________________________________________________________\n",
            "activation_9 (Activation)    (None, 100)               0         \n",
            "_________________________________________________________________\n",
            "dense_13 (Dense)             (None, 50)                5050      \n",
            "_________________________________________________________________\n",
            "activation_10 (Activation)   (None, 50)                0         \n",
            "_________________________________________________________________\n",
            "dense_14 (Dense)             (None, 30)                1530      \n",
            "_________________________________________________________________\n",
            "activation_11 (Activation)   (None, 30)                0         \n",
            "_________________________________________________________________\n",
            "dense_15 (Dense)             (None, 1)                 31        \n",
            "=================================================================\n",
            "Total params: 14,411\n",
            "Trainable params: 14,411\n",
            "Non-trainable params: 0\n",
            "_________________________________________________________________\n"
          ],
          "name": "stdout"
        }
      ]
    },
    {
      "cell_type": "code",
      "metadata": {
        "id": "EDDNtJzgg9p7",
        "colab_type": "code",
        "outputId": "10440031-ffa4-4779-ece0-eeb75a4e224a",
        "colab": {
          "base_uri": "https://localhost:8080/",
          "height": 34
        }
      },
      "source": [
        "#deep_train_predict = model.predict(x_train)\n",
        "deep_test_predict = model.predict(x_test)\n",
        "#print(\"MAPE value of DeepL train:\",mape_find(y_train,deep_train_predict))\n",
        "#print(\"MAPE value of DeepL test:\",mape_find(y_test,deep_test_predict))\n",
        "print('RMSE',np.sqrt(metrics.mean_squared_error(y_test,deep_test_predict)))\n"
      ],
      "execution_count": 0,
      "outputs": [
        {
          "output_type": "stream",
          "text": [
            "RMSE 35.72078602039825\n"
          ],
          "name": "stdout"
        }
      ]
    }
  ]
}