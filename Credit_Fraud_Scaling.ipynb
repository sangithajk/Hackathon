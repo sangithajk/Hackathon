{
  "nbformat": 4,
  "nbformat_minor": 0,
  "metadata": {
    "colab": {
      "name": "Credit Fraud - Scaling.ipynb",
      "version": "0.3.2",
      "provenance": [],
      "include_colab_link": true
    },
    "kernelspec": {
      "name": "python3",
      "display_name": "Python 3"
    }
  },
  "cells": [
    {
      "cell_type": "markdown",
      "metadata": {
        "id": "view-in-github",
        "colab_type": "text"
      },
      "source": [
        "<a href=\"https://colab.research.google.com/github/sangithajk/Hackathon/blob/master/Credit_Fraud_Scaling.ipynb\" target=\"_parent\"><img src=\"https://colab.research.google.com/assets/colab-badge.svg\" alt=\"Open In Colab\"/></a>"
      ]
    },
    {
      "cell_type": "code",
      "metadata": {
        "id": "v_438SF-ZTqF",
        "colab_type": "code",
        "colab": {}
      },
      "source": [
        ""
      ],
      "execution_count": 0,
      "outputs": []
    },
    {
      "cell_type": "code",
      "metadata": {
        "id": "9LM2xIrnRjGc",
        "colab_type": "code",
        "outputId": "26852fe9-d766-49f0-d14d-1f6120ee87cb",
        "colab": {
          "base_uri": "https://localhost:8080/",
          "height": 34
        }
      },
      "source": [
        "from google.colab import drive\n",
        "drive.mount('/content/drive')"
      ],
      "execution_count": 29,
      "outputs": [
        {
          "output_type": "stream",
          "text": [
            "Drive already mounted at /content/drive; to attempt to forcibly remount, call drive.mount(\"/content/drive\", force_remount=True).\n"
          ],
          "name": "stdout"
        }
      ]
    },
    {
      "cell_type": "code",
      "metadata": {
        "id": "gV_wVCK_SRAO",
        "colab_type": "code",
        "colab": {}
      },
      "source": [
        "import pandas as pd"
      ],
      "execution_count": 0,
      "outputs": []
    },
    {
      "cell_type": "code",
      "metadata": {
        "id": "O-cXaqS8RsRe",
        "colab_type": "code",
        "colab": {}
      },
      "source": [
        "train = pd.read_csv(\"/content/drive/My Drive/credit_train.csv\")\n",
        "test = pd.read_csv(\"/content/drive/My Drive/credit_test.csv\")"
      ],
      "execution_count": 0,
      "outputs": []
    },
    {
      "cell_type": "code",
      "metadata": {
        "id": "nwvtzxIVevfs",
        "colab_type": "code",
        "colab": {}
      },
      "source": [
        "train[['Class']] = train[['Class']].astype(str).replace(\"'1'\",\"1\")\n",
        "train[['Class']] = train[['Class']].astype(str).replace(\"'0'\",\"0\")"
      ],
      "execution_count": 0,
      "outputs": []
    },
    {
      "cell_type": "code",
      "metadata": {
        "id": "dnvGm_Iue2F-",
        "colab_type": "code",
        "colab": {}
      },
      "source": [
        "test[['Class']] = test[['Class']].astype(str).replace(\"'1'\",\"1\")\n",
        "test[['Class']] = test[['Class']].astype(str).replace(\"'0'\",\"0\")"
      ],
      "execution_count": 0,
      "outputs": []
    },
    {
      "cell_type": "code",
      "metadata": {
        "id": "CgyQODuaVfq2",
        "colab_type": "code",
        "colab": {}
      },
      "source": [
        "import numpy as np\n",
        "import pandas as pd\n",
        "from sklearn.model_selection import train_test_split    \n",
        "from sklearn.metrics import accuracy_score,classification_report\n",
        "import matplotlib.pyplot as plt\n",
        "import seaborn as sns\n",
        "from matplotlib import pyplot\n",
        "%matplotlib inline\n"
      ],
      "execution_count": 0,
      "outputs": []
    },
    {
      "cell_type": "code",
      "metadata": {
        "id": "qi79sRLOZ0Ws",
        "colab_type": "code",
        "colab": {}
      },
      "source": [
        "from sklearn.preprocessing import StandardScaler\n",
        "\n",
        "ss = StandardScaler()\n",
        "x_train1 = train.drop(['Class'],axis=1)\n",
        "y_train = train['Class']\n",
        "x_train = pd.DataFrame(ss.fit_transform(x_train1),columns = x_train1.columns)\n",
        "\n",
        "x_test1 = test.drop(['Class'],axis=1)\n",
        "y_test = test['Class']\n",
        "x_test = pd.DataFrame(ss.fit_transform(x_test1),columns = x_test1.columns)\n",
        "\n"
      ],
      "execution_count": 0,
      "outputs": []
    },
    {
      "cell_type": "code",
      "metadata": {
        "id": "ALdHnoHfcKxH",
        "colab_type": "code",
        "colab": {
          "base_uri": "https://localhost:8080/",
          "height": 51
        },
        "outputId": "6107616a-6d31-4cf8-ebbf-eb2e3a05b9a4"
      },
      "source": [
        "import xgboost as xgb\n",
        "from sklearn import metrics\n",
        "xgb_fit = xgb.XGBClassifier(max_depth=2, n_estimators=100, learning_rate=0.1).fit(x_train, y_train)\n",
        "xgb_train_predict = xgb_fit.predict(x_train)\n",
        "xgb_test_predict = xgb_fit.predict(x_test)\n",
        "print(\"Xgb Accuracy train:\",metrics.accuracy_score(y_train,xgb_train_predict))\n",
        "print(\"Xgb Accuracy test:\",metrics.accuracy_score(y_test,xgb_test_predict))\n"
      ],
      "execution_count": 36,
      "outputs": [
        {
          "output_type": "stream",
          "text": [
            "Xgb Accuracy train: 0.9995347714455002\n",
            "Xgb Accuracy test: 0.9993153330290369\n"
          ],
          "name": "stdout"
        }
      ]
    },
    {
      "cell_type": "code",
      "metadata": {
        "id": "BAirXnAsc6Sg",
        "colab_type": "code",
        "colab": {
          "base_uri": "https://localhost:8080/",
          "height": 51
        },
        "outputId": "7f176eaa-762e-4a80-9fa6-112cb458c029"
      },
      "source": [
        "from sklearn.ensemble import  RandomForestClassifier\n",
        "from sklearn import metrics\n",
        "forest = RandomForestClassifier(n_jobs=-1,n_estimators=20, \n",
        "                                       min_samples_leaf=25, \n",
        "                                       max_features=0.3).fit(x_train, y_train)\n",
        "forest_train_predict = forest.predict(x_train)\n",
        "forest_test_predict = forest.predict(x_test)\n",
        "print(metrics.accuracy_score(y_test, forest_test_predict))\n",
        "print(metrics.accuracy_score(y_train, forest_train_predict))"
      ],
      "execution_count": 37,
      "outputs": [
        {
          "output_type": "stream",
          "text": [
            "0.9992099996488887\n",
            "0.9994250477298163\n"
          ],
          "name": "stdout"
        }
      ]
    },
    {
      "cell_type": "code",
      "metadata": {
        "id": "SPKSUOTadJfc",
        "colab_type": "code",
        "colab": {
          "base_uri": "https://localhost:8080/",
          "height": 105
        },
        "outputId": "843b5b42-5e10-457c-c4ab-4b9c52ae9b84"
      },
      "source": [
        "from sklearn.linear_model import LogisticRegression\n",
        "log_fit = LogisticRegression().fit(x_train,y_train)\n",
        "log_train_predict = log_fit.predict(x_train)\n",
        "log_test_predict = log_fit.predict(x_test)\n",
        "print(\"log Accuracy train:\",metrics.accuracy_score(y_train,log_train_predict))\n",
        "print(\"log Accuracy test:\",metrics.accuracy_score(y_test,log_test_predict))"
      ],
      "execution_count": 38,
      "outputs": [
        {
          "output_type": "stream",
          "text": [
            "/usr/local/lib/python3.6/dist-packages/sklearn/linear_model/logistic.py:432: FutureWarning: Default solver will be changed to 'lbfgs' in 0.22. Specify a solver to silence this warning.\n",
            "  FutureWarning)\n"
          ],
          "name": "stderr"
        },
        {
          "output_type": "stream",
          "text": [
            "log Accuracy train: 0.9992670455792315\n",
            "log Accuracy test: 0.9990168884519505\n"
          ],
          "name": "stdout"
        }
      ]
    },
    {
      "cell_type": "code",
      "metadata": {
        "id": "XCp1vg_jeFay",
        "colab_type": "code",
        "colab": {}
      },
      "source": [
        "# Sampling plus deep learning\n",
        "\n",
        "df_class0=train.loc[train['Class']== \"0\"]\n",
        "df_class1=train.loc[train['Class']== \"1\"]\n",
        "df_class0_samp=df_class0.sample(n=377)\n",
        "df_new = pd.concat([df_class0_samp,df_class1])"
      ],
      "execution_count": 0,
      "outputs": []
    },
    {
      "cell_type": "code",
      "metadata": {
        "id": "10YgO_XGhwV5",
        "colab_type": "code",
        "colab": {}
      },
      "source": [
        "ss = StandardScaler()\n",
        "x_train_ss1 = df_new.drop(['Class'],axis=1)\n",
        "y_train_ss = df_new['Class']\n",
        "x_train_ss = pd.DataFrame(ss.fit_transform(x_train_ss1),columns = x_train_ss1.columns)"
      ],
      "execution_count": 0,
      "outputs": []
    },
    {
      "cell_type": "code",
      "metadata": {
        "id": "wSedd4CJdlKK",
        "colab_type": "code",
        "colab": {}
      },
      "source": [
        "# Deep learning\n",
        "\n",
        "from keras.models import Sequential\n",
        "from keras.layers import Activation, Dense\n",
        "from keras import optimizers\n",
        "model = Sequential()\n",
        "\n",
        "model.add(Dense(20, input_dim=29))\n",
        "model.add(Activation('relu'))\n",
        "model.add(Dense(50))\n",
        "model.add(Activation('relu'))\n",
        "model.add(Dense(50))\n",
        "model.add(Activation('relu'))\n",
        "model.add(Dense(50))\n",
        "model.add(Activation('relu'))\n",
        "model.add(Dense(1))\n",
        "model.add(Activation('softmax'))\n",
        "\n",
        "model.compile(loss='binary_crossentropy', optimizer='adam', metrics=['accuracy'])"
      ],
      "execution_count": 0,
      "outputs": []
    },
    {
      "cell_type": "code",
      "metadata": {
        "id": "aUrO-YFFdzTV",
        "colab_type": "code",
        "colab": {
          "base_uri": "https://localhost:8080/",
          "height": 1000
        },
        "outputId": "9d24a14c-fd86-4b8c-f0fb-cd40834b0e2a"
      },
      "source": [
        "history = model.fit(x_train_ss, y_train_ss, validation_split = 0.3, epochs = 200, verbose = 1)"
      ],
      "execution_count": 53,
      "outputs": [
        {
          "output_type": "stream",
          "text": [
            "Train on 536 samples, validate on 231 samples\n",
            "Epoch 1/200\n",
            "536/536 [==============================] - 0s 70us/step - loss: 11.2132 - acc: 0.2966 - val_loss: 1.1921e-07 - val_acc: 1.0000\n",
            "Epoch 2/200\n",
            "536/536 [==============================] - 0s 67us/step - loss: 11.2132 - acc: 0.2966 - val_loss: 1.1921e-07 - val_acc: 1.0000\n",
            "Epoch 3/200\n",
            "536/536 [==============================] - 0s 87us/step - loss: 11.2132 - acc: 0.2966 - val_loss: 1.1921e-07 - val_acc: 1.0000\n",
            "Epoch 4/200\n",
            "536/536 [==============================] - 0s 70us/step - loss: 11.2132 - acc: 0.2966 - val_loss: 1.1921e-07 - val_acc: 1.0000\n",
            "Epoch 5/200\n",
            "536/536 [==============================] - 0s 65us/step - loss: 11.2132 - acc: 0.2966 - val_loss: 1.1921e-07 - val_acc: 1.0000\n",
            "Epoch 6/200\n",
            "536/536 [==============================] - 0s 66us/step - loss: 11.2132 - acc: 0.2966 - val_loss: 1.1921e-07 - val_acc: 1.0000\n",
            "Epoch 7/200\n",
            "536/536 [==============================] - 0s 71us/step - loss: 11.2132 - acc: 0.2966 - val_loss: 1.1921e-07 - val_acc: 1.0000\n",
            "Epoch 8/200\n",
            "536/536 [==============================] - 0s 69us/step - loss: 11.2132 - acc: 0.2966 - val_loss: 1.1921e-07 - val_acc: 1.0000\n",
            "Epoch 9/200\n",
            "536/536 [==============================] - 0s 70us/step - loss: 11.2132 - acc: 0.2966 - val_loss: 1.1921e-07 - val_acc: 1.0000\n",
            "Epoch 10/200\n",
            "536/536 [==============================] - 0s 66us/step - loss: 11.2132 - acc: 0.2966 - val_loss: 1.1921e-07 - val_acc: 1.0000\n",
            "Epoch 11/200\n",
            "536/536 [==============================] - 0s 66us/step - loss: 11.2132 - acc: 0.2966 - val_loss: 1.1921e-07 - val_acc: 1.0000\n",
            "Epoch 12/200\n",
            "536/536 [==============================] - 0s 71us/step - loss: 11.2132 - acc: 0.2966 - val_loss: 1.1921e-07 - val_acc: 1.0000\n",
            "Epoch 13/200\n",
            "536/536 [==============================] - 0s 63us/step - loss: 11.2132 - acc: 0.2966 - val_loss: 1.1921e-07 - val_acc: 1.0000\n",
            "Epoch 14/200\n",
            "536/536 [==============================] - 0s 64us/step - loss: 11.2132 - acc: 0.2966 - val_loss: 1.1921e-07 - val_acc: 1.0000\n",
            "Epoch 15/200\n",
            "536/536 [==============================] - 0s 74us/step - loss: 11.2132 - acc: 0.2966 - val_loss: 1.1921e-07 - val_acc: 1.0000\n",
            "Epoch 16/200\n",
            "536/536 [==============================] - 0s 66us/step - loss: 11.2132 - acc: 0.2966 - val_loss: 1.1921e-07 - val_acc: 1.0000\n",
            "Epoch 17/200\n",
            "536/536 [==============================] - 0s 66us/step - loss: 11.2132 - acc: 0.2966 - val_loss: 1.1921e-07 - val_acc: 1.0000\n",
            "Epoch 18/200\n",
            "536/536 [==============================] - 0s 70us/step - loss: 11.2132 - acc: 0.2966 - val_loss: 1.1921e-07 - val_acc: 1.0000\n",
            "Epoch 19/200\n",
            "536/536 [==============================] - 0s 64us/step - loss: 11.2132 - acc: 0.2966 - val_loss: 1.1921e-07 - val_acc: 1.0000\n",
            "Epoch 20/200\n",
            "536/536 [==============================] - 0s 69us/step - loss: 11.2132 - acc: 0.2966 - val_loss: 1.1921e-07 - val_acc: 1.0000\n",
            "Epoch 21/200\n",
            "536/536 [==============================] - 0s 70us/step - loss: 11.2132 - acc: 0.2966 - val_loss: 1.1921e-07 - val_acc: 1.0000\n",
            "Epoch 22/200\n",
            "536/536 [==============================] - 0s 79us/step - loss: 11.2132 - acc: 0.2966 - val_loss: 1.1921e-07 - val_acc: 1.0000\n",
            "Epoch 23/200\n",
            "536/536 [==============================] - 0s 62us/step - loss: 11.2132 - acc: 0.2966 - val_loss: 1.1921e-07 - val_acc: 1.0000\n",
            "Epoch 24/200\n",
            "536/536 [==============================] - 0s 69us/step - loss: 11.2132 - acc: 0.2966 - val_loss: 1.1921e-07 - val_acc: 1.0000\n",
            "Epoch 25/200\n",
            "536/536 [==============================] - 0s 74us/step - loss: 11.2132 - acc: 0.2966 - val_loss: 1.1921e-07 - val_acc: 1.0000\n",
            "Epoch 26/200\n",
            "536/536 [==============================] - 0s 66us/step - loss: 11.2132 - acc: 0.2966 - val_loss: 1.1921e-07 - val_acc: 1.0000\n",
            "Epoch 27/200\n",
            "536/536 [==============================] - 0s 70us/step - loss: 11.2132 - acc: 0.2966 - val_loss: 1.1921e-07 - val_acc: 1.0000\n",
            "Epoch 28/200\n",
            "536/536 [==============================] - 0s 59us/step - loss: 11.2132 - acc: 0.2966 - val_loss: 1.1921e-07 - val_acc: 1.0000\n",
            "Epoch 29/200\n",
            "536/536 [==============================] - 0s 74us/step - loss: 11.2132 - acc: 0.2966 - val_loss: 1.1921e-07 - val_acc: 1.0000\n",
            "Epoch 30/200\n",
            "536/536 [==============================] - 0s 67us/step - loss: 11.2132 - acc: 0.2966 - val_loss: 1.1921e-07 - val_acc: 1.0000\n",
            "Epoch 31/200\n",
            "536/536 [==============================] - 0s 67us/step - loss: 11.2132 - acc: 0.2966 - val_loss: 1.1921e-07 - val_acc: 1.0000\n",
            "Epoch 32/200\n",
            "536/536 [==============================] - 0s 73us/step - loss: 11.2132 - acc: 0.2966 - val_loss: 1.1921e-07 - val_acc: 1.0000\n",
            "Epoch 33/200\n",
            "536/536 [==============================] - 0s 83us/step - loss: 11.2132 - acc: 0.2966 - val_loss: 1.1921e-07 - val_acc: 1.0000\n",
            "Epoch 34/200\n",
            "536/536 [==============================] - 0s 76us/step - loss: 11.2132 - acc: 0.2966 - val_loss: 1.1921e-07 - val_acc: 1.0000\n",
            "Epoch 35/200\n",
            "536/536 [==============================] - 0s 68us/step - loss: 11.2132 - acc: 0.2966 - val_loss: 1.1921e-07 - val_acc: 1.0000\n",
            "Epoch 36/200\n",
            "536/536 [==============================] - 0s 76us/step - loss: 11.2132 - acc: 0.2966 - val_loss: 1.1921e-07 - val_acc: 1.0000\n",
            "Epoch 37/200\n",
            "536/536 [==============================] - 0s 70us/step - loss: 11.2132 - acc: 0.2966 - val_loss: 1.1921e-07 - val_acc: 1.0000\n",
            "Epoch 38/200\n",
            "536/536 [==============================] - 0s 67us/step - loss: 11.2132 - acc: 0.2966 - val_loss: 1.1921e-07 - val_acc: 1.0000\n",
            "Epoch 39/200\n",
            "536/536 [==============================] - 0s 62us/step - loss: 11.2132 - acc: 0.2966 - val_loss: 1.1921e-07 - val_acc: 1.0000\n",
            "Epoch 40/200\n",
            "536/536 [==============================] - 0s 65us/step - loss: 11.2132 - acc: 0.2966 - val_loss: 1.1921e-07 - val_acc: 1.0000\n",
            "Epoch 41/200\n",
            "536/536 [==============================] - 0s 70us/step - loss: 11.2132 - acc: 0.2966 - val_loss: 1.1921e-07 - val_acc: 1.0000\n",
            "Epoch 42/200\n",
            "536/536 [==============================] - 0s 67us/step - loss: 11.2132 - acc: 0.2966 - val_loss: 1.1921e-07 - val_acc: 1.0000\n",
            "Epoch 43/200\n",
            "536/536 [==============================] - 0s 83us/step - loss: 11.2132 - acc: 0.2966 - val_loss: 1.1921e-07 - val_acc: 1.0000\n",
            "Epoch 44/200\n",
            "536/536 [==============================] - 0s 71us/step - loss: 11.2132 - acc: 0.2966 - val_loss: 1.1921e-07 - val_acc: 1.0000\n",
            "Epoch 45/200\n",
            "536/536 [==============================] - 0s 72us/step - loss: 11.2132 - acc: 0.2966 - val_loss: 1.1921e-07 - val_acc: 1.0000\n",
            "Epoch 46/200\n",
            "536/536 [==============================] - 0s 61us/step - loss: 11.2132 - acc: 0.2966 - val_loss: 1.1921e-07 - val_acc: 1.0000\n",
            "Epoch 47/200\n",
            "536/536 [==============================] - 0s 73us/step - loss: 11.2132 - acc: 0.2966 - val_loss: 1.1921e-07 - val_acc: 1.0000\n",
            "Epoch 48/200\n",
            "536/536 [==============================] - 0s 68us/step - loss: 11.2132 - acc: 0.2966 - val_loss: 1.1921e-07 - val_acc: 1.0000\n",
            "Epoch 49/200\n",
            "536/536 [==============================] - 0s 70us/step - loss: 11.2132 - acc: 0.2966 - val_loss: 1.1921e-07 - val_acc: 1.0000\n",
            "Epoch 50/200\n",
            "536/536 [==============================] - 0s 78us/step - loss: 11.2132 - acc: 0.2966 - val_loss: 1.1921e-07 - val_acc: 1.0000\n",
            "Epoch 51/200\n",
            "536/536 [==============================] - 0s 68us/step - loss: 11.2132 - acc: 0.2966 - val_loss: 1.1921e-07 - val_acc: 1.0000\n",
            "Epoch 52/200\n",
            "536/536 [==============================] - 0s 65us/step - loss: 11.2132 - acc: 0.2966 - val_loss: 1.1921e-07 - val_acc: 1.0000\n",
            "Epoch 53/200\n",
            "536/536 [==============================] - 0s 77us/step - loss: 11.2132 - acc: 0.2966 - val_loss: 1.1921e-07 - val_acc: 1.0000\n",
            "Epoch 54/200\n",
            "536/536 [==============================] - 0s 73us/step - loss: 11.2132 - acc: 0.2966 - val_loss: 1.1921e-07 - val_acc: 1.0000\n",
            "Epoch 55/200\n",
            "536/536 [==============================] - 0s 68us/step - loss: 11.2132 - acc: 0.2966 - val_loss: 1.1921e-07 - val_acc: 1.0000\n",
            "Epoch 56/200\n",
            "536/536 [==============================] - 0s 77us/step - loss: 11.2132 - acc: 0.2966 - val_loss: 1.1921e-07 - val_acc: 1.0000\n",
            "Epoch 57/200\n",
            "536/536 [==============================] - 0s 79us/step - loss: 11.2132 - acc: 0.2966 - val_loss: 1.1921e-07 - val_acc: 1.0000\n",
            "Epoch 58/200\n",
            "536/536 [==============================] - 0s 77us/step - loss: 11.2132 - acc: 0.2966 - val_loss: 1.1921e-07 - val_acc: 1.0000\n",
            "Epoch 59/200\n",
            "536/536 [==============================] - 0s 67us/step - loss: 11.2132 - acc: 0.2966 - val_loss: 1.1921e-07 - val_acc: 1.0000\n",
            "Epoch 60/200\n",
            "536/536 [==============================] - 0s 67us/step - loss: 11.2132 - acc: 0.2966 - val_loss: 1.1921e-07 - val_acc: 1.0000\n",
            "Epoch 61/200\n",
            "536/536 [==============================] - 0s 70us/step - loss: 11.2132 - acc: 0.2966 - val_loss: 1.1921e-07 - val_acc: 1.0000\n",
            "Epoch 62/200\n",
            "536/536 [==============================] - 0s 68us/step - loss: 11.2132 - acc: 0.2966 - val_loss: 1.1921e-07 - val_acc: 1.0000\n",
            "Epoch 63/200\n",
            "536/536 [==============================] - 0s 66us/step - loss: 11.2132 - acc: 0.2966 - val_loss: 1.1921e-07 - val_acc: 1.0000\n",
            "Epoch 64/200\n",
            "536/536 [==============================] - 0s 75us/step - loss: 11.2132 - acc: 0.2966 - val_loss: 1.1921e-07 - val_acc: 1.0000\n",
            "Epoch 65/200\n",
            "536/536 [==============================] - 0s 64us/step - loss: 11.2132 - acc: 0.2966 - val_loss: 1.1921e-07 - val_acc: 1.0000\n",
            "Epoch 66/200\n",
            "536/536 [==============================] - 0s 63us/step - loss: 11.2132 - acc: 0.2966 - val_loss: 1.1921e-07 - val_acc: 1.0000\n",
            "Epoch 67/200\n",
            "536/536 [==============================] - 0s 64us/step - loss: 11.2132 - acc: 0.2966 - val_loss: 1.1921e-07 - val_acc: 1.0000\n",
            "Epoch 68/200\n",
            "536/536 [==============================] - 0s 67us/step - loss: 11.2132 - acc: 0.2966 - val_loss: 1.1921e-07 - val_acc: 1.0000\n",
            "Epoch 69/200\n",
            "536/536 [==============================] - 0s 66us/step - loss: 11.2132 - acc: 0.2966 - val_loss: 1.1921e-07 - val_acc: 1.0000\n",
            "Epoch 70/200\n",
            "536/536 [==============================] - 0s 62us/step - loss: 11.2132 - acc: 0.2966 - val_loss: 1.1921e-07 - val_acc: 1.0000\n",
            "Epoch 71/200\n",
            "536/536 [==============================] - 0s 66us/step - loss: 11.2132 - acc: 0.2966 - val_loss: 1.1921e-07 - val_acc: 1.0000\n",
            "Epoch 72/200\n",
            "536/536 [==============================] - 0s 83us/step - loss: 11.2132 - acc: 0.2966 - val_loss: 1.1921e-07 - val_acc: 1.0000\n",
            "Epoch 73/200\n",
            "536/536 [==============================] - 0s 60us/step - loss: 11.2132 - acc: 0.2966 - val_loss: 1.1921e-07 - val_acc: 1.0000\n",
            "Epoch 74/200\n",
            "536/536 [==============================] - 0s 63us/step - loss: 11.2132 - acc: 0.2966 - val_loss: 1.1921e-07 - val_acc: 1.0000\n",
            "Epoch 75/200\n",
            "536/536 [==============================] - 0s 66us/step - loss: 11.2132 - acc: 0.2966 - val_loss: 1.1921e-07 - val_acc: 1.0000\n",
            "Epoch 76/200\n",
            "536/536 [==============================] - 0s 67us/step - loss: 11.2132 - acc: 0.2966 - val_loss: 1.1921e-07 - val_acc: 1.0000\n",
            "Epoch 77/200\n",
            "536/536 [==============================] - 0s 63us/step - loss: 11.2132 - acc: 0.2966 - val_loss: 1.1921e-07 - val_acc: 1.0000\n",
            "Epoch 78/200\n",
            "536/536 [==============================] - 0s 69us/step - loss: 11.2132 - acc: 0.2966 - val_loss: 1.1921e-07 - val_acc: 1.0000\n",
            "Epoch 79/200\n",
            "536/536 [==============================] - 0s 67us/step - loss: 11.2132 - acc: 0.2966 - val_loss: 1.1921e-07 - val_acc: 1.0000\n",
            "Epoch 80/200\n",
            "536/536 [==============================] - 0s 63us/step - loss: 11.2132 - acc: 0.2966 - val_loss: 1.1921e-07 - val_acc: 1.0000\n",
            "Epoch 81/200\n",
            "536/536 [==============================] - 0s 62us/step - loss: 11.2132 - acc: 0.2966 - val_loss: 1.1921e-07 - val_acc: 1.0000\n",
            "Epoch 82/200\n",
            "536/536 [==============================] - 0s 69us/step - loss: 11.2132 - acc: 0.2966 - val_loss: 1.1921e-07 - val_acc: 1.0000\n",
            "Epoch 83/200\n",
            "536/536 [==============================] - 0s 76us/step - loss: 11.2132 - acc: 0.2966 - val_loss: 1.1921e-07 - val_acc: 1.0000\n",
            "Epoch 84/200\n",
            "536/536 [==============================] - 0s 74us/step - loss: 11.2132 - acc: 0.2966 - val_loss: 1.1921e-07 - val_acc: 1.0000\n",
            "Epoch 85/200\n",
            "536/536 [==============================] - 0s 69us/step - loss: 11.2132 - acc: 0.2966 - val_loss: 1.1921e-07 - val_acc: 1.0000\n",
            "Epoch 86/200\n",
            "536/536 [==============================] - 0s 87us/step - loss: 11.2132 - acc: 0.2966 - val_loss: 1.1921e-07 - val_acc: 1.0000\n",
            "Epoch 87/200\n",
            "536/536 [==============================] - 0s 65us/step - loss: 11.2132 - acc: 0.2966 - val_loss: 1.1921e-07 - val_acc: 1.0000\n",
            "Epoch 88/200\n",
            "536/536 [==============================] - 0s 68us/step - loss: 11.2132 - acc: 0.2966 - val_loss: 1.1921e-07 - val_acc: 1.0000\n",
            "Epoch 89/200\n",
            "536/536 [==============================] - 0s 67us/step - loss: 11.2132 - acc: 0.2966 - val_loss: 1.1921e-07 - val_acc: 1.0000\n",
            "Epoch 90/200\n",
            "536/536 [==============================] - 0s 67us/step - loss: 11.2132 - acc: 0.2966 - val_loss: 1.1921e-07 - val_acc: 1.0000\n",
            "Epoch 91/200\n",
            "536/536 [==============================] - 0s 75us/step - loss: 11.2132 - acc: 0.2966 - val_loss: 1.1921e-07 - val_acc: 1.0000\n",
            "Epoch 92/200\n",
            "536/536 [==============================] - 0s 65us/step - loss: 11.2132 - acc: 0.2966 - val_loss: 1.1921e-07 - val_acc: 1.0000\n",
            "Epoch 93/200\n",
            "536/536 [==============================] - 0s 61us/step - loss: 11.2132 - acc: 0.2966 - val_loss: 1.1921e-07 - val_acc: 1.0000\n",
            "Epoch 94/200\n",
            "536/536 [==============================] - 0s 73us/step - loss: 11.2132 - acc: 0.2966 - val_loss: 1.1921e-07 - val_acc: 1.0000\n",
            "Epoch 95/200\n",
            "536/536 [==============================] - 0s 63us/step - loss: 11.2132 - acc: 0.2966 - val_loss: 1.1921e-07 - val_acc: 1.0000\n",
            "Epoch 96/200\n",
            "536/536 [==============================] - 0s 69us/step - loss: 11.2132 - acc: 0.2966 - val_loss: 1.1921e-07 - val_acc: 1.0000\n",
            "Epoch 97/200\n",
            "536/536 [==============================] - 0s 64us/step - loss: 11.2132 - acc: 0.2966 - val_loss: 1.1921e-07 - val_acc: 1.0000\n",
            "Epoch 98/200\n",
            "536/536 [==============================] - 0s 65us/step - loss: 11.2132 - acc: 0.2966 - val_loss: 1.1921e-07 - val_acc: 1.0000\n",
            "Epoch 99/200\n",
            "536/536 [==============================] - 0s 66us/step - loss: 11.2132 - acc: 0.2966 - val_loss: 1.1921e-07 - val_acc: 1.0000\n",
            "Epoch 100/200\n",
            "536/536 [==============================] - 0s 68us/step - loss: 11.2132 - acc: 0.2966 - val_loss: 1.1921e-07 - val_acc: 1.0000\n",
            "Epoch 101/200\n",
            "536/536 [==============================] - 0s 69us/step - loss: 11.2132 - acc: 0.2966 - val_loss: 1.1921e-07 - val_acc: 1.0000\n",
            "Epoch 102/200\n",
            "536/536 [==============================] - 0s 74us/step - loss: 11.2132 - acc: 0.2966 - val_loss: 1.1921e-07 - val_acc: 1.0000\n",
            "Epoch 103/200\n",
            "536/536 [==============================] - 0s 68us/step - loss: 11.2132 - acc: 0.2966 - val_loss: 1.1921e-07 - val_acc: 1.0000\n",
            "Epoch 104/200\n",
            "536/536 [==============================] - 0s 64us/step - loss: 11.2132 - acc: 0.2966 - val_loss: 1.1921e-07 - val_acc: 1.0000\n",
            "Epoch 105/200\n",
            "536/536 [==============================] - 0s 67us/step - loss: 11.2132 - acc: 0.2966 - val_loss: 1.1921e-07 - val_acc: 1.0000\n",
            "Epoch 106/200\n",
            "536/536 [==============================] - 0s 63us/step - loss: 11.2132 - acc: 0.2966 - val_loss: 1.1921e-07 - val_acc: 1.0000\n",
            "Epoch 107/200\n",
            "536/536 [==============================] - 0s 65us/step - loss: 11.2132 - acc: 0.2966 - val_loss: 1.1921e-07 - val_acc: 1.0000\n",
            "Epoch 108/200\n",
            "536/536 [==============================] - 0s 61us/step - loss: 11.2132 - acc: 0.2966 - val_loss: 1.1921e-07 - val_acc: 1.0000\n",
            "Epoch 109/200\n",
            "536/536 [==============================] - 0s 61us/step - loss: 11.2132 - acc: 0.2966 - val_loss: 1.1921e-07 - val_acc: 1.0000\n",
            "Epoch 110/200\n",
            "536/536 [==============================] - 0s 67us/step - loss: 11.2132 - acc: 0.2966 - val_loss: 1.1921e-07 - val_acc: 1.0000\n",
            "Epoch 111/200\n",
            "536/536 [==============================] - 0s 73us/step - loss: 11.2132 - acc: 0.2966 - val_loss: 1.1921e-07 - val_acc: 1.0000\n",
            "Epoch 112/200\n",
            "536/536 [==============================] - 0s 65us/step - loss: 11.2132 - acc: 0.2966 - val_loss: 1.1921e-07 - val_acc: 1.0000\n",
            "Epoch 113/200\n",
            "536/536 [==============================] - 0s 63us/step - loss: 11.2132 - acc: 0.2966 - val_loss: 1.1921e-07 - val_acc: 1.0000\n",
            "Epoch 114/200\n",
            "536/536 [==============================] - 0s 61us/step - loss: 11.2132 - acc: 0.2966 - val_loss: 1.1921e-07 - val_acc: 1.0000\n",
            "Epoch 115/200\n",
            "536/536 [==============================] - 0s 71us/step - loss: 11.2132 - acc: 0.2966 - val_loss: 1.1921e-07 - val_acc: 1.0000\n",
            "Epoch 116/200\n",
            "536/536 [==============================] - 0s 70us/step - loss: 11.2132 - acc: 0.2966 - val_loss: 1.1921e-07 - val_acc: 1.0000\n",
            "Epoch 117/200\n",
            "536/536 [==============================] - 0s 68us/step - loss: 11.2132 - acc: 0.2966 - val_loss: 1.1921e-07 - val_acc: 1.0000\n",
            "Epoch 118/200\n",
            "536/536 [==============================] - 0s 85us/step - loss: 11.2132 - acc: 0.2966 - val_loss: 1.1921e-07 - val_acc: 1.0000\n",
            "Epoch 119/200\n",
            "536/536 [==============================] - 0s 73us/step - loss: 11.2132 - acc: 0.2966 - val_loss: 1.1921e-07 - val_acc: 1.0000\n",
            "Epoch 120/200\n",
            "536/536 [==============================] - 0s 65us/step - loss: 11.2132 - acc: 0.2966 - val_loss: 1.1921e-07 - val_acc: 1.0000\n",
            "Epoch 121/200\n",
            "536/536 [==============================] - 0s 72us/step - loss: 11.2132 - acc: 0.2966 - val_loss: 1.1921e-07 - val_acc: 1.0000\n",
            "Epoch 122/200\n",
            "536/536 [==============================] - 0s 69us/step - loss: 11.2132 - acc: 0.2966 - val_loss: 1.1921e-07 - val_acc: 1.0000\n",
            "Epoch 123/200\n",
            "536/536 [==============================] - 0s 64us/step - loss: 11.2132 - acc: 0.2966 - val_loss: 1.1921e-07 - val_acc: 1.0000\n",
            "Epoch 124/200\n",
            "536/536 [==============================] - 0s 75us/step - loss: 11.2132 - acc: 0.2966 - val_loss: 1.1921e-07 - val_acc: 1.0000\n",
            "Epoch 125/200\n",
            "536/536 [==============================] - 0s 69us/step - loss: 11.2132 - acc: 0.2966 - val_loss: 1.1921e-07 - val_acc: 1.0000\n",
            "Epoch 126/200\n",
            "536/536 [==============================] - 0s 68us/step - loss: 11.2132 - acc: 0.2966 - val_loss: 1.1921e-07 - val_acc: 1.0000\n",
            "Epoch 127/200\n",
            "536/536 [==============================] - 0s 67us/step - loss: 11.2132 - acc: 0.2966 - val_loss: 1.1921e-07 - val_acc: 1.0000\n",
            "Epoch 128/200\n",
            "536/536 [==============================] - 0s 65us/step - loss: 11.2132 - acc: 0.2966 - val_loss: 1.1921e-07 - val_acc: 1.0000\n",
            "Epoch 129/200\n",
            "536/536 [==============================] - 0s 78us/step - loss: 11.2132 - acc: 0.2966 - val_loss: 1.1921e-07 - val_acc: 1.0000\n",
            "Epoch 130/200\n",
            "536/536 [==============================] - 0s 78us/step - loss: 11.2132 - acc: 0.2966 - val_loss: 1.1921e-07 - val_acc: 1.0000\n",
            "Epoch 131/200\n",
            "536/536 [==============================] - 0s 74us/step - loss: 11.2132 - acc: 0.2966 - val_loss: 1.1921e-07 - val_acc: 1.0000\n",
            "Epoch 132/200\n",
            "536/536 [==============================] - 0s 67us/step - loss: 11.2132 - acc: 0.2966 - val_loss: 1.1921e-07 - val_acc: 1.0000\n",
            "Epoch 133/200\n",
            "536/536 [==============================] - 0s 77us/step - loss: 11.2132 - acc: 0.2966 - val_loss: 1.1921e-07 - val_acc: 1.0000\n",
            "Epoch 134/200\n",
            "536/536 [==============================] - 0s 61us/step - loss: 11.2132 - acc: 0.2966 - val_loss: 1.1921e-07 - val_acc: 1.0000\n",
            "Epoch 135/200\n",
            "536/536 [==============================] - 0s 69us/step - loss: 11.2132 - acc: 0.2966 - val_loss: 1.1921e-07 - val_acc: 1.0000\n",
            "Epoch 136/200\n",
            "536/536 [==============================] - 0s 76us/step - loss: 11.2132 - acc: 0.2966 - val_loss: 1.1921e-07 - val_acc: 1.0000\n",
            "Epoch 137/200\n",
            "536/536 [==============================] - 0s 69us/step - loss: 11.2132 - acc: 0.2966 - val_loss: 1.1921e-07 - val_acc: 1.0000\n",
            "Epoch 138/200\n",
            "536/536 [==============================] - 0s 76us/step - loss: 11.2132 - acc: 0.2966 - val_loss: 1.1921e-07 - val_acc: 1.0000\n",
            "Epoch 139/200\n",
            "536/536 [==============================] - 0s 73us/step - loss: 11.2132 - acc: 0.2966 - val_loss: 1.1921e-07 - val_acc: 1.0000\n",
            "Epoch 140/200\n",
            "536/536 [==============================] - 0s 80us/step - loss: 11.2132 - acc: 0.2966 - val_loss: 1.1921e-07 - val_acc: 1.0000\n",
            "Epoch 141/200\n",
            "536/536 [==============================] - 0s 75us/step - loss: 11.2132 - acc: 0.2966 - val_loss: 1.1921e-07 - val_acc: 1.0000\n",
            "Epoch 142/200\n",
            "536/536 [==============================] - 0s 73us/step - loss: 11.2132 - acc: 0.2966 - val_loss: 1.1921e-07 - val_acc: 1.0000\n",
            "Epoch 143/200\n",
            "536/536 [==============================] - 0s 67us/step - loss: 11.2132 - acc: 0.2966 - val_loss: 1.1921e-07 - val_acc: 1.0000\n",
            "Epoch 144/200\n",
            "536/536 [==============================] - 0s 63us/step - loss: 11.2132 - acc: 0.2966 - val_loss: 1.1921e-07 - val_acc: 1.0000\n",
            "Epoch 145/200\n",
            "536/536 [==============================] - 0s 66us/step - loss: 11.2132 - acc: 0.2966 - val_loss: 1.1921e-07 - val_acc: 1.0000\n",
            "Epoch 146/200\n",
            "536/536 [==============================] - 0s 79us/step - loss: 11.2132 - acc: 0.2966 - val_loss: 1.1921e-07 - val_acc: 1.0000\n",
            "Epoch 147/200\n",
            "536/536 [==============================] - 0s 82us/step - loss: 11.2132 - acc: 0.2966 - val_loss: 1.1921e-07 - val_acc: 1.0000\n",
            "Epoch 148/200\n",
            "536/536 [==============================] - 0s 67us/step - loss: 11.2132 - acc: 0.2966 - val_loss: 1.1921e-07 - val_acc: 1.0000\n",
            "Epoch 149/200\n",
            "536/536 [==============================] - 0s 66us/step - loss: 11.2132 - acc: 0.2966 - val_loss: 1.1921e-07 - val_acc: 1.0000\n",
            "Epoch 150/200\n",
            "536/536 [==============================] - 0s 61us/step - loss: 11.2132 - acc: 0.2966 - val_loss: 1.1921e-07 - val_acc: 1.0000\n",
            "Epoch 151/200\n",
            "536/536 [==============================] - 0s 69us/step - loss: 11.2132 - acc: 0.2966 - val_loss: 1.1921e-07 - val_acc: 1.0000\n",
            "Epoch 152/200\n",
            "536/536 [==============================] - 0s 67us/step - loss: 11.2132 - acc: 0.2966 - val_loss: 1.1921e-07 - val_acc: 1.0000\n",
            "Epoch 153/200\n",
            "536/536 [==============================] - 0s 64us/step - loss: 11.2132 - acc: 0.2966 - val_loss: 1.1921e-07 - val_acc: 1.0000\n",
            "Epoch 154/200\n",
            "536/536 [==============================] - 0s 64us/step - loss: 11.2132 - acc: 0.2966 - val_loss: 1.1921e-07 - val_acc: 1.0000\n",
            "Epoch 155/200\n",
            "536/536 [==============================] - 0s 76us/step - loss: 11.2132 - acc: 0.2966 - val_loss: 1.1921e-07 - val_acc: 1.0000\n",
            "Epoch 156/200\n",
            "536/536 [==============================] - 0s 62us/step - loss: 11.2132 - acc: 0.2966 - val_loss: 1.1921e-07 - val_acc: 1.0000\n",
            "Epoch 157/200\n",
            "536/536 [==============================] - 0s 64us/step - loss: 11.2132 - acc: 0.2966 - val_loss: 1.1921e-07 - val_acc: 1.0000\n",
            "Epoch 158/200\n",
            "536/536 [==============================] - 0s 66us/step - loss: 11.2132 - acc: 0.2966 - val_loss: 1.1921e-07 - val_acc: 1.0000\n",
            "Epoch 159/200\n",
            "536/536 [==============================] - 0s 66us/step - loss: 11.2132 - acc: 0.2966 - val_loss: 1.1921e-07 - val_acc: 1.0000\n",
            "Epoch 160/200\n",
            "536/536 [==============================] - 0s 65us/step - loss: 11.2132 - acc: 0.2966 - val_loss: 1.1921e-07 - val_acc: 1.0000\n",
            "Epoch 161/200\n",
            "536/536 [==============================] - 0s 65us/step - loss: 11.2132 - acc: 0.2966 - val_loss: 1.1921e-07 - val_acc: 1.0000\n",
            "Epoch 162/200\n",
            "536/536 [==============================] - 0s 67us/step - loss: 11.2132 - acc: 0.2966 - val_loss: 1.1921e-07 - val_acc: 1.0000\n",
            "Epoch 163/200\n",
            "536/536 [==============================] - 0s 65us/step - loss: 11.2132 - acc: 0.2966 - val_loss: 1.1921e-07 - val_acc: 1.0000\n",
            "Epoch 164/200\n",
            "536/536 [==============================] - 0s 69us/step - loss: 11.2132 - acc: 0.2966 - val_loss: 1.1921e-07 - val_acc: 1.0000\n",
            "Epoch 165/200\n",
            "536/536 [==============================] - 0s 76us/step - loss: 11.2132 - acc: 0.2966 - val_loss: 1.1921e-07 - val_acc: 1.0000\n",
            "Epoch 166/200\n",
            "536/536 [==============================] - 0s 70us/step - loss: 11.2132 - acc: 0.2966 - val_loss: 1.1921e-07 - val_acc: 1.0000\n",
            "Epoch 167/200\n",
            "536/536 [==============================] - 0s 68us/step - loss: 11.2132 - acc: 0.2966 - val_loss: 1.1921e-07 - val_acc: 1.0000\n",
            "Epoch 168/200\n",
            "536/536 [==============================] - 0s 74us/step - loss: 11.2132 - acc: 0.2966 - val_loss: 1.1921e-07 - val_acc: 1.0000\n",
            "Epoch 169/200\n",
            "536/536 [==============================] - 0s 70us/step - loss: 11.2132 - acc: 0.2966 - val_loss: 1.1921e-07 - val_acc: 1.0000\n",
            "Epoch 170/200\n",
            "536/536 [==============================] - 0s 70us/step - loss: 11.2132 - acc: 0.2966 - val_loss: 1.1921e-07 - val_acc: 1.0000\n",
            "Epoch 171/200\n",
            "536/536 [==============================] - 0s 71us/step - loss: 11.2132 - acc: 0.2966 - val_loss: 1.1921e-07 - val_acc: 1.0000\n",
            "Epoch 172/200\n",
            "536/536 [==============================] - 0s 73us/step - loss: 11.2132 - acc: 0.2966 - val_loss: 1.1921e-07 - val_acc: 1.0000\n",
            "Epoch 173/200\n",
            "536/536 [==============================] - 0s 84us/step - loss: 11.2132 - acc: 0.2966 - val_loss: 1.1921e-07 - val_acc: 1.0000\n",
            "Epoch 174/200\n",
            "536/536 [==============================] - 0s 67us/step - loss: 11.2132 - acc: 0.2966 - val_loss: 1.1921e-07 - val_acc: 1.0000\n",
            "Epoch 175/200\n",
            "536/536 [==============================] - 0s 70us/step - loss: 11.2132 - acc: 0.2966 - val_loss: 1.1921e-07 - val_acc: 1.0000\n",
            "Epoch 176/200\n",
            "536/536 [==============================] - 0s 66us/step - loss: 11.2132 - acc: 0.2966 - val_loss: 1.1921e-07 - val_acc: 1.0000\n",
            "Epoch 177/200\n",
            "536/536 [==============================] - 0s 70us/step - loss: 11.2132 - acc: 0.2966 - val_loss: 1.1921e-07 - val_acc: 1.0000\n",
            "Epoch 178/200\n",
            "536/536 [==============================] - 0s 67us/step - loss: 11.2132 - acc: 0.2966 - val_loss: 1.1921e-07 - val_acc: 1.0000\n",
            "Epoch 179/200\n",
            "536/536 [==============================] - 0s 72us/step - loss: 11.2132 - acc: 0.2966 - val_loss: 1.1921e-07 - val_acc: 1.0000\n",
            "Epoch 180/200\n",
            "536/536 [==============================] - 0s 77us/step - loss: 11.2132 - acc: 0.2966 - val_loss: 1.1921e-07 - val_acc: 1.0000\n",
            "Epoch 181/200\n",
            "536/536 [==============================] - 0s 70us/step - loss: 11.2132 - acc: 0.2966 - val_loss: 1.1921e-07 - val_acc: 1.0000\n",
            "Epoch 182/200\n",
            "536/536 [==============================] - 0s 64us/step - loss: 11.2132 - acc: 0.2966 - val_loss: 1.1921e-07 - val_acc: 1.0000\n",
            "Epoch 183/200\n",
            "536/536 [==============================] - 0s 70us/step - loss: 11.2132 - acc: 0.2966 - val_loss: 1.1921e-07 - val_acc: 1.0000\n",
            "Epoch 184/200\n",
            "536/536 [==============================] - 0s 71us/step - loss: 11.2132 - acc: 0.2966 - val_loss: 1.1921e-07 - val_acc: 1.0000\n",
            "Epoch 185/200\n",
            "536/536 [==============================] - 0s 76us/step - loss: 11.2132 - acc: 0.2966 - val_loss: 1.1921e-07 - val_acc: 1.0000\n",
            "Epoch 186/200\n",
            "536/536 [==============================] - 0s 73us/step - loss: 11.2132 - acc: 0.2966 - val_loss: 1.1921e-07 - val_acc: 1.0000\n",
            "Epoch 187/200\n",
            "536/536 [==============================] - 0s 70us/step - loss: 11.2132 - acc: 0.2966 - val_loss: 1.1921e-07 - val_acc: 1.0000\n",
            "Epoch 188/200\n",
            "536/536 [==============================] - 0s 82us/step - loss: 11.2132 - acc: 0.2966 - val_loss: 1.1921e-07 - val_acc: 1.0000\n",
            "Epoch 189/200\n",
            "536/536 [==============================] - 0s 60us/step - loss: 11.2132 - acc: 0.2966 - val_loss: 1.1921e-07 - val_acc: 1.0000\n",
            "Epoch 190/200\n",
            "536/536 [==============================] - 0s 71us/step - loss: 11.2132 - acc: 0.2966 - val_loss: 1.1921e-07 - val_acc: 1.0000\n",
            "Epoch 191/200\n",
            "536/536 [==============================] - 0s 73us/step - loss: 11.2132 - acc: 0.2966 - val_loss: 1.1921e-07 - val_acc: 1.0000\n",
            "Epoch 192/200\n",
            "536/536 [==============================] - 0s 58us/step - loss: 11.2132 - acc: 0.2966 - val_loss: 1.1921e-07 - val_acc: 1.0000\n",
            "Epoch 193/200\n",
            "536/536 [==============================] - 0s 71us/step - loss: 11.2132 - acc: 0.2966 - val_loss: 1.1921e-07 - val_acc: 1.0000\n",
            "Epoch 194/200\n",
            "536/536 [==============================] - 0s 73us/step - loss: 11.2132 - acc: 0.2966 - val_loss: 1.1921e-07 - val_acc: 1.0000\n",
            "Epoch 195/200\n",
            "536/536 [==============================] - 0s 79us/step - loss: 11.2132 - acc: 0.2966 - val_loss: 1.1921e-07 - val_acc: 1.0000\n",
            "Epoch 196/200\n",
            "536/536 [==============================] - 0s 68us/step - loss: 11.2132 - acc: 0.2966 - val_loss: 1.1921e-07 - val_acc: 1.0000\n",
            "Epoch 197/200\n",
            "536/536 [==============================] - 0s 69us/step - loss: 11.2132 - acc: 0.2966 - val_loss: 1.1921e-07 - val_acc: 1.0000\n",
            "Epoch 198/200\n",
            "536/536 [==============================] - 0s 76us/step - loss: 11.2132 - acc: 0.2966 - val_loss: 1.1921e-07 - val_acc: 1.0000\n",
            "Epoch 199/200\n",
            "536/536 [==============================] - 0s 68us/step - loss: 11.2132 - acc: 0.2966 - val_loss: 1.1921e-07 - val_acc: 1.0000\n",
            "Epoch 200/200\n",
            "536/536 [==============================] - 0s 71us/step - loss: 11.2132 - acc: 0.2966 - val_loss: 1.1921e-07 - val_acc: 1.0000\n"
          ],
          "name": "stdout"
        }
      ]
    },
    {
      "cell_type": "code",
      "metadata": {
        "id": "I6b2sDPbfeM6",
        "colab_type": "code",
        "colab": {
          "base_uri": "https://localhost:8080/",
          "height": 34
        },
        "outputId": "da6663ae-bfab-4c26-8339-be8b3c355ba9"
      },
      "source": [
        "results = model.evaluate(x_train_ss, y_train_ss)"
      ],
      "execution_count": 54,
      "outputs": [
        {
          "output_type": "stream",
          "text": [
            "767/767 [==============================] - 0s 65us/step\n"
          ],
          "name": "stdout"
        }
      ]
    },
    {
      "cell_type": "code",
      "metadata": {
        "id": "TTc_dLSdi-vW",
        "colab_type": "code",
        "colab": {
          "base_uri": "https://localhost:8080/",
          "height": 51
        },
        "outputId": "f6647847-eb2b-4962-b2f2-6d725a246d8c"
      },
      "source": [
        "print('loss: ', results[0])\n",
        "print('accuracy: ', results[1])"
      ],
      "execution_count": 55,
      "outputs": [
        {
          "output_type": "stream",
          "text": [
            "loss:  7.836087481605676\n",
            "accuracy:  0.5084745762711864\n"
          ],
          "name": "stdout"
        }
      ]
    }
  ]
}